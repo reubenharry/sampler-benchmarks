{
 "cells": [
  {
   "cell_type": "markdown",
   "metadata": {},
   "source": [
    "## (dev notebook)"
   ]
  },
  {
   "cell_type": "code",
   "execution_count": 1,
   "metadata": {},
   "outputs": [
    {
     "name": "stderr",
     "output_type": "stream",
     "text": [
      "2025-04-21 12:54:06.191225: I tensorflow/core/platform/cpu_feature_guard.cc:210] This TensorFlow binary is optimized to use available CPU instructions in performance-critical operations.\n",
      "To enable the following instructions: AVX2 FMA, in other operations, rebuild TensorFlow with the appropriate compiler flags.\n",
      "WARNING:2025-04-21 12:54:13,680:jax._src.xla_bridge:909: An NVIDIA GPU may be present on this machine, but a CUDA-enabled jaxlib is not installed. Falling back to cpu.\n"
     ]
    }
   ],
   "source": [
    "import inference_gym.using_jax as gym\n",
    "import jax\n",
    "import jax.numpy as jnp\n",
    "import matplotlib.pyplot as plt\n",
    "import sys\n",
    "sys.path.append('..')\n",
    "sys.path.append('./sampler-comparison')\n",
    "sys.path.append('../../')\n",
    "from sampler_comparison.samplers import samplers\n",
    "import seaborn as sns\n",
    "\n"
   ]
  },
  {
   "cell_type": "code",
   "execution_count": 2,
   "metadata": {},
   "outputs": [],
   "source": [
    "# # from sampler_evaluation.models import banana\n",
    "\n",
    "# # banana().exact_sample(key=jax.random.key(0))\n",
    "# # model = Dirichlet(ndims=2, alpha=10.0)\n",
    "# # model.sample(seed=jax.random.key(0))\n",
    "# # model.default_event_space_bijector(jnp.ones((2,)))\n",
    "\n",
    "# import numpy as np\n",
    "# import oryx\n",
    "# import jax.numpy as jnp\n",
    "# # bijector = oryx.bijectors.IteratedSigmoidCentered(\n",
    "# #     validate_args=False, name='iterated_sigmoid'\n",
    "# # )\n",
    "# # bijector(np.ones((2,)))\n",
    "\n",
    "# oryx.bijectors.IteratedSigmoidCentered().forward(jnp.array([0., 0., 0.]))\n"
   ]
  },
  {
   "cell_type": "code",
   "execution_count": 8,
   "metadata": {},
   "outputs": [
    {
     "data": {
      "text/plain": [
       "<bound method Bijector.forward_log_det_jacobian of <tfp.bijectors.IteratedSigmoidCentered 'iterated_sigmoid' batch_shape=[] forward_min_event_ndims=1 inverse_min_event_ndims=1 dtype_x=? dtype_y=?>>"
      ]
     },
     "execution_count": 8,
     "metadata": {},
     "output_type": "execute_result"
    }
   ],
   "source": [
    "# import oryx\n",
    "\n",
    "# bijector = oryx.bijectors.IteratedSigmoidCentered(\n",
    "#     validate_args=False, name='iterated_sigmoid'\n",
    "# )\n",
    "# bijector.forward_log_det_jacobian"
   ]
  },
  {
   "cell_type": "markdown",
   "metadata": {},
   "source": []
  },
  {
   "cell_type": "code",
   "execution_count": 2,
   "metadata": {},
   "outputs": [],
   "source": [
    "# import os\n",
    "# # os.listdir(\"../../../../../../r\")\n",
    "# os.listdir(\"/global/homes/r/reubenh/blackjax-benchmarks/sampler-comparison\")"
   ]
  },
  {
   "cell_type": "code",
   "execution_count": 3,
   "metadata": {},
   "outputs": [
    {
     "name": "stderr",
     "output_type": "stream",
     "text": [
      "/global/homes/r/reubenh/.conda/envs/jax2024/lib/python3.11/site-packages/jax/_src/numpy/array_methods.py:122: UserWarning: Explicitly requested dtype <class 'numpy.float64'> requested in astype is not available, and will be truncated to dtype float32. To enable more dtypes, set the jax_enable_x64 configuration option or the JAX_ENABLE_X64 shell environment variable. See https://github.com/jax-ml/jax#current-gotchas for more.\n",
      "  return lax_numpy.astype(self, dtype, copy=copy, device=device)\n"
     ]
    },
    {
     "data": {
      "text/plain": [
       "(Array([0.5, 0.5], dtype=float32),\n",
       " Array([0.03526728, 0.03526728], dtype=float32))"
      ]
     },
     "execution_count": 3,
     "metadata": {},
     "output_type": "execute_result"
    }
   ],
   "source": [
    "import tensorflow.compat.v2 as tf\n",
    "import numpy as np\n",
    "# import tensorflow_probability as tfp\n",
    "import tensorflow_probability.substrates.jax as tfp\n",
    "from inference_gym.targets import model\n",
    "import jax.numpy as jnp\n",
    "\n",
    "tfb = tfp.bijectors\n",
    "tfd = tfp.distributions\n",
    "\n",
    "ndims = 2\n",
    "\n",
    "dirichlet = tfp.distributions.Dirichlet(\n",
    "        np.ones(ndims) * 100.0,\n",
    "        validate_args=False,\n",
    "        allow_nan_stats=True,\n",
    "        force_probs_to_zero_outside_support=False,\n",
    "        name='Dirichlet'\n",
    "    )\n",
    "\n",
    "dirichlet.mean(), dirichlet.stddev()"
   ]
  },
  {
   "cell_type": "code",
   "execution_count": 4,
   "metadata": {},
   "outputs": [],
   "source": [
    "# dirichlet.unnormalized_log_prob(dirichlet.sample(seed=jax.random.key(0)))"
   ]
  },
  {
   "cell_type": "code",
   "execution_count": 2,
   "metadata": {},
   "outputs": [],
   "source": [
    "# # model.sample(seed=jax.random.key(0))\n",
    "# model = banana()\n",
    "# model.sample(seed=jax.random.key(0))"
   ]
  },
  {
   "cell_type": "code",
   "execution_count": 2,
   "metadata": {},
   "outputs": [
    {
     "name": "stderr",
     "output_type": "stream",
     "text": [
      "/global/homes/r/reubenh/.conda/envs/jax2024/lib/python3.11/site-packages/tensorflow_probability/python/internal/backend/jax/numpy_array.py:531: UserWarning: Explicitly requested dtype <class 'jax.numpy.float64'> requested in zeros is not available, and will be truncated to dtype float32. To enable more dtypes, set the jax_enable_x64 configuration option or the JAX_ENABLE_X64 shell environment variable. See https://github.com/jax-ml/jax#current-gotchas for more.\n",
      "  lambda shape, dtype=np.float32, name=None, layout=None: np.zeros(  # pylint: disable=g-long-lambda\n",
      "/global/homes/r/reubenh/.conda/envs/jax2024/lib/python3.11/site-packages/jax/_src/numpy/array_methods.py:122: UserWarning: Explicitly requested dtype float64 requested in astype is not available, and will be truncated to dtype float32. To enable more dtypes, set the jax_enable_x64 configuration option or the JAX_ENABLE_X64 shell environment variable. See https://github.com/jax-ml/jax#current-gotchas for more.\n",
      "  return lax_numpy.astype(self, dtype, copy=copy, device=device)\n",
      "/global/homes/r/reubenh/.conda/envs/jax2024/lib/python3.11/site-packages/jax/_src/numpy/array_methods.py:122: UserWarning: Explicitly requested dtype <class 'numpy.float64'> requested in astype is not available, and will be truncated to dtype float32. To enable more dtypes, set the jax_enable_x64 configuration option or the JAX_ENABLE_X64 shell environment variable. See https://github.com/jax-ml/jax#current-gotchas for more.\n",
      "  return lax_numpy.astype(self, dtype, copy=copy, device=device)\n"
     ]
    }
   ],
   "source": [
    "from sampler_evaluation.models import models\n",
    "# from sampler_evaluation.models.standardgaussian import Gaussian\n",
    "import sampler_evaluation\n",
    "from sampler_evaluation.models.gaussian_mams_paper import IllConditionedGaussian\n",
    "from sampler_evaluation.models.dirichlet import Dirichlet\n",
    "from sampler_evaluation.models.banana import banana\n",
    "# import oryx\n",
    "# sampler_evaluation.models.Rosenbrock(D=1)\n",
    "model = Dirichlet(ndims=2, alpha=100.0)\n",
    "# model = IllConditionedGaussian(ndims=2, condition_number=1, eigenvalues='log')\n",
    "# model = banana()\n",
    "# model.sample(seed=jax.random.key(0))\n",
    "# model._unnormalized_log_prob(jnp.ones(2))\n",
    "\n",
    "samples, metadata = samplers['nuts'](return_samples=True)(\n",
    "        # model=gym.targets.rosenbrock.Rosenbrock(D=2), \n",
    "        model=model, \n",
    "        num_steps=1000,\n",
    "        # initial_position=model.sample(seed=jax.random.key(0)), \n",
    "        initial_position=jnp.ones((1,)), \n",
    "        key=jax.random.PRNGKey(0))\n"
   ]
  },
  {
   "cell_type": "code",
   "execution_count": 3,
   "metadata": {},
   "outputs": [
    {
     "data": {
      "text/plain": [
       "<matplotlib.collections.PathCollection at 0x7f994404c9d0>"
      ]
     },
     "execution_count": 3,
     "metadata": {},
     "output_type": "execute_result"
    },
    {
     "data": {
      "image/png": "[encoded data removed]",
      "text/plain": [
       "<Figure size 640x480 with 1 Axes>"
      ]
     },
     "metadata": {},
     "output_type": "display_data"
    }
   ],
   "source": [
    "# scatter plot of samples\n",
    "# samples[0]\n",
    "plt.scatter(samples[:,0], samples[:,1], alpha=0.5, s=0.3)"
   ]
  },
  {
   "cell_type": "code",
   "execution_count": 4,
   "metadata": {},
   "outputs": [
    {
     "data": {
      "text/plain": [
       "Array([0.5008018, 0.4991982], dtype=float32)"
      ]
     },
     "execution_count": 4,
     "metadata": {},
     "output_type": "execute_result"
    }
   ],
   "source": [
    "samples.mean(axis=0)\n",
    "# jax.vmap(lambda k: model.sample(seed=k))(jax.random.split(jax.random.key(0), 1000)).mean(axis=0)"
   ]
  },
  {
   "cell_type": "code",
   "execution_count": 6,
   "metadata": {},
   "outputs": [
    {
     "name": "stdout",
     "output_type": "stream",
     "text": [
      "final error is 0.0007830436807125807\n"
     ]
    }
   ],
   "source": [
    "from sampler_evaluation.models import models\n",
    "from sampler_comparison.samplers.general import initialize_model\n",
    "from sampler_evaluation.models.banana import banana\n",
    "from sampler_evaluation.evaluation.ess import samples_to_low_error, get_standardized_squared_error\n",
    "\n",
    "\n",
    "keys = jax.random.split(jax.random.key(0), 10)\n",
    "init_keys = jax.random.split(jax.random.key(0), 10)\n",
    "initial_position = jax.vmap(lambda key: initialize_model(model, key))(init_keys)\n",
    "\n",
    "squared_errors, metadata = jax.vmap(\n",
    "        lambda key, pos: samplers['nuts'](return_samples=False)(\n",
    "        model=model, num_steps=2000, initial_position=pos, key=key\n",
    "        )\n",
    "        )(\n",
    "        keys,\n",
    "        initial_position,\n",
    "        )\n",
    "\n",
    "err_t_max_x2 = jnp.median(squared_errors['identity']['max'], axis=0)\n",
    "samples_to_low_max_x2 = samples_to_low_error(\n",
    "err_t_max_x2)* metadata[\"num_grads_per_proposal\"].mean()"
   ]
  },
  {
   "cell_type": "code",
   "execution_count": 7,
   "metadata": {},
   "outputs": [
    {
     "data": {
      "text/plain": [
       "Array(710.2451, dtype=float32)"
      ]
     },
     "execution_count": 7,
     "metadata": {},
     "output_type": "execute_result"
    }
   ],
   "source": []
  },
  {
   "cell_type": "code",
   "execution_count": 15,
   "metadata": {},
   "outputs": [
    {
     "data": {
      "text/plain": [
       "Array(1.4101266e-06, dtype=float32)"
      ]
     },
     "execution_count": 15,
     "metadata": {},
     "output_type": "execute_result"
    },
    {
     "data": {
      "image/png": "[encoded data removed]",
      "text/plain": [
       "<Figure size 640x480 with 1 Axes>"
      ]
     },
     "metadata": {},
     "output_type": "display_data"
    }
   ],
   "source": [
    "# samples.shape\n",
    "from sampler_evaluation.evaluation.ess import samples_to_low_error, get_standardized_squared_error\n",
    "\n",
    "error_at_each_step = get_standardized_squared_error(\n",
    "    jnp.expand_dims(samples,0), \n",
    "    f=model.sample_transformations[\"square\"],\n",
    "    E_f=model.sample_transformations[\"square\"].ground_truth_mean,\n",
    "    Var_f=model.sample_transformations[\"square\"].ground_truth_standard_deviation**2\n",
    "    )\n",
    "\n",
    "error_at_each_step.shape\n",
    "\n",
    "# gradient_calls_per_proposal = metadata['num_grads_per_proposal'].mean()\n",
    "\n",
    "# samples_to_low_err = samples_to_low_error(error_at_each_step) * gradient_calls_per_proposal\n",
    "\n",
    "# print(\"Gradient calls to low error\", samples_to_low_err)\n",
    "\n",
    "# plot error_at_each_step\n",
    "plt.plot(error_at_each_step[0])\n",
    "# log scale\n",
    "plt.yscale('log')\n",
    "# plt.xscale('log')\n",
    "error_at_each_step[0,-1]"
   ]
  },
  {
   "cell_type": "code",
   "execution_count": 3,
   "metadata": {},
   "outputs": [
    {
     "name": "stderr",
     "output_type": "stream",
     "text": [
      "An NVIDIA GPU may be present on this machine, but a CUDA-enabled jaxlib is not installed. Falling back to cpu.\n"
     ]
    },
    {
     "name": "stdout",
     "output_type": "stream",
     "text": [
      "['demo.py', 'demo.ipynb']\n"
     ]
    },
    {
     "name": "stderr",
     "output_type": "stream",
     "text": [
      "/global/homes/r/reubenh/.conda/envs/jax2024/lib/python3.11/site-packages/jax/_src/numpy/array_methods.py:68: UserWarning: Explicitly requested dtype float64 requested in astype is not available, and will be truncated to dtype float32. To enable more dtypes, set the jax_enable_x64 configuration option or the JAX_ENABLE_X64 shell environment variable. See https://github.com/google/jax#current-gotchas for more.\n",
      "  return lax_numpy.astype(arr, dtype, copy=copy, device=device)\n",
      "/global/homes/r/reubenh/.conda/envs/jax2024/lib/python3.11/site-packages/jax/_src/numpy/array_methods.py:68: UserWarning: Explicitly requested dtype float64 requested in astype is not available, and will be truncated to dtype float32. To enable more dtypes, set the jax_enable_x64 configuration option or the JAX_ENABLE_X64 shell environment variable. See https://github.com/google/jax#current-gotchas for more.\n",
      "  return lax_numpy.astype(arr, dtype, copy=copy, device=device)\n",
      "/global/homes/r/reubenh/.conda/envs/jax2024/lib/python3.11/site-packages/jax/_src/numpy/array_methods.py:68: UserWarning: Explicitly requested dtype float64 requested in astype is not available, and will be truncated to dtype float32. To enable more dtypes, set the jax_enable_x64 configuration option or the JAX_ENABLE_X64 shell environment variable. See https://github.com/google/jax#current-gotchas for more.\n",
      "  return lax_numpy.astype(arr, dtype, copy=copy, device=device)\n",
      "/global/homes/r/reubenh/.conda/envs/jax2024/lib/python3.11/site-packages/jax/_src/numpy/array_methods.py:68: UserWarning: Explicitly requested dtype float64 requested in astype is not available, and will be truncated to dtype float32. To enable more dtypes, set the jax_enable_x64 configuration option or the JAX_ENABLE_X64 shell environment variable. See https://github.com/google/jax#current-gotchas for more.\n",
      "  return lax_numpy.astype(arr, dtype, copy=copy, device=device)\n",
      "/global/homes/r/reubenh/.conda/envs/jax2024/lib/python3.11/site-packages/jax/_src/numpy/array_methods.py:68: UserWarning: Explicitly requested dtype float64 requested in astype is not available, and will be truncated to dtype float32. To enable more dtypes, set the jax_enable_x64 configuration option or the JAX_ENABLE_X64 shell environment variable. See https://github.com/google/jax#current-gotchas for more.\n",
      "  return lax_numpy.astype(arr, dtype, copy=copy, device=device)\n",
      "/global/homes/r/reubenh/.conda/envs/jax2024/lib/python3.11/site-packages/jax/_src/numpy/array_methods.py:68: UserWarning: Explicitly requested dtype float64 requested in astype is not available, and will be truncated to dtype float32. To enable more dtypes, set the jax_enable_x64 configuration option or the JAX_ENABLE_X64 shell environment variable. See https://github.com/google/jax#current-gotchas for more.\n",
      "  return lax_numpy.astype(arr, dtype, copy=copy, device=device)\n",
      "/global/homes/r/reubenh/.conda/envs/jax2024/lib/python3.11/site-packages/jax/_src/numpy/array_methods.py:68: UserWarning: Explicitly requested dtype float64 requested in astype is not available, and will be truncated to dtype float32. To enable more dtypes, set the jax_enable_x64 configuration option or the JAX_ENABLE_X64 shell environment variable. See https://github.com/google/jax#current-gotchas for more.\n",
      "  return lax_numpy.astype(arr, dtype, copy=copy, device=device)\n",
      "/global/homes/r/reubenh/.conda/envs/jax2024/lib/python3.11/site-packages/jax/_src/numpy/array_methods.py:68: UserWarning: Explicitly requested dtype float64 requested in astype is not available, and will be truncated to dtype float32. To enable more dtypes, set the jax_enable_x64 configuration option or the JAX_ENABLE_X64 shell environment variable. See https://github.com/google/jax#current-gotchas for more.\n",
      "  return lax_numpy.astype(arr, dtype, copy=copy, device=device)\n",
      "/global/homes/r/reubenh/.conda/envs/jax2024/lib/python3.11/site-packages/jax/_src/numpy/array_methods.py:68: UserWarning: Explicitly requested dtype float64 requested in astype is not available, and will be truncated to dtype float32. To enable more dtypes, set the jax_enable_x64 configuration option or the JAX_ENABLE_X64 shell environment variable. See https://github.com/google/jax#current-gotchas for more.\n",
      "  return lax_numpy.astype(arr, dtype, copy=copy, device=device)\n",
      "/global/homes/r/reubenh/.conda/envs/jax2024/lib/python3.11/site-packages/jax/_src/numpy/array_methods.py:68: UserWarning: Explicitly requested dtype float64 requested in astype is not available, and will be truncated to dtype float32. To enable more dtypes, set the jax_enable_x64 configuration option or the JAX_ENABLE_X64 shell environment variable. See https://github.com/google/jax#current-gotchas for more.\n",
      "  return lax_numpy.astype(arr, dtype, copy=copy, device=device)\n",
      "/global/homes/r/reubenh/.conda/envs/jax2024/lib/python3.11/site-packages/jax/_src/numpy/array_methods.py:68: UserWarning: Explicitly requested dtype float64 requested in astype is not available, and will be truncated to dtype float32. To enable more dtypes, set the jax_enable_x64 configuration option or the JAX_ENABLE_X64 shell environment variable. See https://github.com/google/jax#current-gotchas for more.\n",
      "  return lax_numpy.astype(arr, dtype, copy=copy, device=device)\n",
      "/global/homes/r/reubenh/.conda/envs/jax2024/lib/python3.11/site-packages/jax/_src/numpy/array_methods.py:68: UserWarning: Explicitly requested dtype float64 requested in astype is not available, and will be truncated to dtype float32. To enable more dtypes, set the jax_enable_x64 configuration option or the JAX_ENABLE_X64 shell environment variable. See https://github.com/google/jax#current-gotchas for more.\n",
      "  return lax_numpy.astype(arr, dtype, copy=copy, device=device)\n",
      "/global/homes/r/reubenh/.conda/envs/jax2024/lib/python3.11/site-packages/jax/_src/numpy/array_methods.py:68: UserWarning: Explicitly requested dtype float64 requested in astype is not available, and will be truncated to dtype float32. To enable more dtypes, set the jax_enable_x64 configuration option or the JAX_ENABLE_X64 shell environment variable. See https://github.com/google/jax#current-gotchas for more.\n",
      "  return lax_numpy.astype(arr, dtype, copy=copy, device=device)\n",
      "/global/homes/r/reubenh/.conda/envs/jax2024/lib/python3.11/site-packages/jax/_src/numpy/array_methods.py:68: UserWarning: Explicitly requested dtype float64 requested in astype is not available, and will be truncated to dtype float32. To enable more dtypes, set the jax_enable_x64 configuration option or the JAX_ENABLE_X64 shell environment variable. See https://github.com/google/jax#current-gotchas for more.\n",
      "  return lax_numpy.astype(arr, dtype, copy=copy, device=device)\n",
      "/global/homes/r/reubenh/.conda/envs/jax2024/lib/python3.11/site-packages/jax/_src/numpy/array_methods.py:68: UserWarning: Explicitly requested dtype float64 requested in astype is not available, and will be truncated to dtype float32. To enable more dtypes, set the jax_enable_x64 configuration option or the JAX_ENABLE_X64 shell environment variable. See https://github.com/google/jax#current-gotchas for more.\n",
      "  return lax_numpy.astype(arr, dtype, copy=copy, device=device)\n",
      "/global/homes/r/reubenh/.conda/envs/jax2024/lib/python3.11/site-packages/jax/_src/numpy/array_methods.py:68: UserWarning: Explicitly requested dtype float64 requested in astype is not available, and will be truncated to dtype float32. To enable more dtypes, set the jax_enable_x64 configuration option or the JAX_ENABLE_X64 shell environment variable. See https://github.com/google/jax#current-gotchas for more.\n",
      "  return lax_numpy.astype(arr, dtype, copy=copy, device=device)\n",
      "/global/homes/r/reubenh/.conda/envs/jax2024/lib/python3.11/site-packages/jax/_src/numpy/array_methods.py:68: UserWarning: Explicitly requested dtype float64 requested in astype is not available, and will be truncated to dtype float32. To enable more dtypes, set the jax_enable_x64 configuration option or the JAX_ENABLE_X64 shell environment variable. See https://github.com/google/jax#current-gotchas for more.\n",
      "  return lax_numpy.astype(arr, dtype, copy=copy, device=device)\n",
      "/global/homes/r/reubenh/.conda/envs/jax2024/lib/python3.11/site-packages/jax/_src/numpy/array_methods.py:68: UserWarning: Explicitly requested dtype float64 requested in astype is not available, and will be truncated to dtype float32. To enable more dtypes, set the jax_enable_x64 configuration option or the JAX_ENABLE_X64 shell environment variable. See https://github.com/google/jax#current-gotchas for more.\n",
      "  return lax_numpy.astype(arr, dtype, copy=copy, device=device)\n",
      "/global/homes/r/reubenh/.conda/envs/jax2024/lib/python3.11/site-packages/jax/_src/numpy/array_methods.py:68: UserWarning: Explicitly requested dtype float64 requested in astype is not available, and will be truncated to dtype float32. To enable more dtypes, set the jax_enable_x64 configuration option or the JAX_ENABLE_X64 shell environment variable. See https://github.com/google/jax#current-gotchas for more.\n",
      "  return lax_numpy.astype(arr, dtype, copy=copy, device=device)\n",
      "/global/homes/r/reubenh/.conda/envs/jax2024/lib/python3.11/site-packages/jax/_src/numpy/array_methods.py:68: UserWarning: Explicitly requested dtype float64 requested in astype is not available, and will be truncated to dtype float32. To enable more dtypes, set the jax_enable_x64 configuration option or the JAX_ENABLE_X64 shell environment variable. See https://github.com/google/jax#current-gotchas for more.\n",
      "  return lax_numpy.astype(arr, dtype, copy=copy, device=device)\n",
      "/global/homes/r/reubenh/.conda/envs/jax2024/lib/python3.11/site-packages/jax/_src/numpy/array_methods.py:68: UserWarning: Explicitly requested dtype float64 requested in astype is not available, and will be truncated to dtype float32. To enable more dtypes, set the jax_enable_x64 configuration option or the JAX_ENABLE_X64 shell environment variable. See https://github.com/google/jax#current-gotchas for more.\n",
      "  return lax_numpy.astype(arr, dtype, copy=copy, device=device)\n",
      "/global/homes/r/reubenh/.conda/envs/jax2024/lib/python3.11/site-packages/jax/_src/numpy/array_methods.py:68: UserWarning: Explicitly requested dtype float64 requested in astype is not available, and will be truncated to dtype float32. To enable more dtypes, set the jax_enable_x64 configuration option or the JAX_ENABLE_X64 shell environment variable. See https://github.com/google/jax#current-gotchas for more.\n",
      "  return lax_numpy.astype(arr, dtype, copy=copy, device=device)\n"
     ]
    }
   ],
   "source": [
    "# load df from results\n",
    "import itertools\n",
    "import os\n",
    "import pandas as pd\n",
    "from sampler_comparison.samplers import samplers\n",
    "from sampler_evaluation.models import models\n",
    "\n",
    "# show paths available\n",
    "# os.listdir(os.path.join('../', 'results'))\n",
    "\n",
    "# sys.path.append('../../../')\n",
    "\n",
    "df = pd.concat([pd.read_csv(os.path.join('..','results', f'{sampler}_{model}.csv')) for sampler, model in itertools.product(samplers, models)], ignore_index=True)"
   ]
  },
  {
   "cell_type": "code",
   "execution_count": 4,
   "metadata": {},
   "outputs": [
    {
     "data": {
      "image/png": "[encoded data removed]",
      "text/plain": [
       "<Figure size 1000x600 with 4 Axes>"
      ]
     },
     "metadata": {},
     "output_type": "display_data"
    }
   ],
   "source": [
    "import numpy as np\n",
    "\n",
    "\n",
    "def display_results(model_name,df, include_tuning=False):\n",
    "\n",
    "  df[\"PrettyName\"] = df[\"Sampler\"].apply({\"nuts\": \"NUTS\", \"unadjusted_microcanonical\": \"Microcanonical (unadjusted)\", \"adjusted_microcanonical\": \"Microcanonical (adjusted)\"}.get)\n",
    "  df[\"total_num_grads_to_low_error\"] = df[\"num_grads_to_low_error\"] + df[\"num_tuning_grads\"]\n",
    "  df = df[df[\"Model\"] == model_name]\n",
    "\n",
    "  g = sns.FacetGrid(df,\n",
    "              col='max',\n",
    "              row=\"statistic\",\n",
    "              sharex=False,\n",
    "              sharey=False,\n",
    "              height=4,\n",
    "             )\n",
    "  g = g.map(sns.barplot, 'Model',  'total_num_grads_to_low_error' if include_tuning else \"num_grads_to_low_error\", \"PrettyName\",  \n",
    "            hue_order=np.unique(df[\"PrettyName\"]), \n",
    "            order=np.unique(df[\"Model\"]),\n",
    "            # log_scale=True,\n",
    "            palette='dark:#1f77b4'\n",
    "  )\n",
    "  plt.legend()\n",
    "  # plt.yscale('log')\n",
    "\n",
    "  plt.gcf().set_size_inches(10, 6)\n",
    "  plt.show()\n",
    "\n",
    "# df\n",
    "\n",
    "# display_results(\"Gaussian_100D\", df, include_tuning=False)\n",
    "display_results(\"German_Credit\", df, include_tuning=False)\n",
    "# display_results(\"Brownian_Motion\", df, include_tuning=False)\n",
    "# display_results(\"Brownian_Motion\", df, include_tuning=False)\n",
    "# df"
   ]
  },
  {
   "cell_type": "code",
   "execution_count": null,
   "metadata": {},
   "outputs": [],
   "source": []
  },
  {
   "cell_type": "code",
   "execution_count": 3,
   "metadata": {},
   "outputs": [
    {
     "name": "stdout",
     "output_type": "stream",
     "text": [
      "from blackjax run:  [ 0.11525708  0.09256472  0.05635736 -0.03410918 -0.05100336 -0.18196875\n",
      " -0.18945307 -0.25923407 -0.25987643 -0.32402724 -0.22958763 -0.28165078\n",
      " -0.3362609  -0.38868254 -0.44175696 -0.4945148  -0.5447676  -0.6013282\n",
      " -0.6559048  -0.7087315  -0.75866866 -0.8134075  -0.8074223  -0.7784713\n",
      " -0.82167107 -0.7737639  -0.743899   -0.7613981  -0.6401507  -0.6669518\n",
      " -0.64461184  0.11305185]\n",
      "from gym:  [ 0.11984811  0.10274264  0.06093274 -0.03870019 -0.04362268 -0.19021639\n",
      " -0.1856622  -0.26851514 -0.26010785 -0.3334386  -0.21788554 -0.2735482\n",
      " -0.33083084 -0.38252977 -0.43280044 -0.49400684 -0.54860604 -0.60449123\n",
      " -0.65569454 -0.7083658  -0.76391494 -0.8189823  -0.8105346  -0.7771473\n",
      " -0.8268097  -0.7768991  -0.7374106  -0.7740582  -0.6294383  -0.670295\n",
      " -0.6432216   0.10105278]\n"
     ]
    },
    {
     "name": "stderr",
     "output_type": "stream",
     "text": [
      "/global/homes/r/reubenh/.conda/envs/jax2024/lib/python3.11/site-packages/jax/_src/numpy/array_methods.py:68: UserWarning: Explicitly requested dtype float64 requested in astype is not available, and will be truncated to dtype float32. To enable more dtypes, set the jax_enable_x64 configuration option or the JAX_ENABLE_X64 shell environment variable. See https://github.com/google/jax#current-gotchas for more.\n",
      "  return lax_numpy.astype(arr, dtype, copy=copy, device=device)\n",
      "/global/homes/r/reubenh/.conda/envs/jax2024/lib/python3.11/site-packages/jax/_src/numpy/array_methods.py:68: UserWarning: Explicitly requested dtype float64 requested in astype is not available, and will be truncated to dtype float32. To enable more dtypes, set the jax_enable_x64 configuration option or the JAX_ENABLE_X64 shell environment variable. See https://github.com/google/jax#current-gotchas for more.\n",
      "  return lax_numpy.astype(arr, dtype, copy=copy, device=device)\n",
      "/global/homes/r/reubenh/.conda/envs/jax2024/lib/python3.11/site-packages/jax/_src/numpy/array_methods.py:68: UserWarning: Explicitly requested dtype float64 requested in astype is not available, and will be truncated to dtype float32. To enable more dtypes, set the jax_enable_x64 configuration option or the JAX_ENABLE_X64 shell environment variable. See https://github.com/google/jax#current-gotchas for more.\n",
      "  return lax_numpy.astype(arr, dtype, copy=copy, device=device)\n",
      "/global/homes/r/reubenh/.conda/envs/jax2024/lib/python3.11/site-packages/jax/_src/numpy/array_methods.py:68: UserWarning: Explicitly requested dtype float64 requested in astype is not available, and will be truncated to dtype float32. To enable more dtypes, set the jax_enable_x64 configuration option or the JAX_ENABLE_X64 shell environment variable. See https://github.com/google/jax#current-gotchas for more.\n",
      "  return lax_numpy.astype(arr, dtype, copy=copy, device=device)\n",
      "/global/homes/r/reubenh/.conda/envs/jax2024/lib/python3.11/site-packages/jax/_src/numpy/array_methods.py:68: UserWarning: Explicitly requested dtype float64 requested in astype is not available, and will be truncated to dtype float32. To enable more dtypes, set the jax_enable_x64 configuration option or the JAX_ENABLE_X64 shell environment variable. See https://github.com/google/jax#current-gotchas for more.\n",
      "  return lax_numpy.astype(arr, dtype, copy=copy, device=device)\n",
      "/global/homes/r/reubenh/.conda/envs/jax2024/lib/python3.11/site-packages/jax/_src/numpy/array_methods.py:68: UserWarning: Explicitly requested dtype float64 requested in astype is not available, and will be truncated to dtype float32. To enable more dtypes, set the jax_enable_x64 configuration option or the JAX_ENABLE_X64 shell environment variable. See https://github.com/google/jax#current-gotchas for more.\n",
      "  return lax_numpy.astype(arr, dtype, copy=copy, device=device)\n",
      "/global/homes/r/reubenh/.conda/envs/jax2024/lib/python3.11/site-packages/jax/_src/numpy/array_methods.py:68: UserWarning: Explicitly requested dtype float64 requested in astype is not available, and will be truncated to dtype float32. To enable more dtypes, set the jax_enable_x64 configuration option or the JAX_ENABLE_X64 shell environment variable. See https://github.com/google/jax#current-gotchas for more.\n",
      "  return lax_numpy.astype(arr, dtype, copy=copy, device=device)\n",
      "/global/homes/r/reubenh/.conda/envs/jax2024/lib/python3.11/site-packages/jax/_src/numpy/array_methods.py:68: UserWarning: Explicitly requested dtype float64 requested in astype is not available, and will be truncated to dtype float32. To enable more dtypes, set the jax_enable_x64 configuration option or the JAX_ENABLE_X64 shell environment variable. See https://github.com/google/jax#current-gotchas for more.\n",
      "  return lax_numpy.astype(arr, dtype, copy=copy, device=device)\n",
      "/global/homes/r/reubenh/.conda/envs/jax2024/lib/python3.11/site-packages/jax/_src/numpy/array_methods.py:68: UserWarning: Explicitly requested dtype float64 requested in astype is not available, and will be truncated to dtype float32. To enable more dtypes, set the jax_enable_x64 configuration option or the JAX_ENABLE_X64 shell environment variable. See https://github.com/google/jax#current-gotchas for more.\n",
      "  return lax_numpy.astype(arr, dtype, copy=copy, device=device)\n"
     ]
    }
   ],
   "source": [
    "import pickle\n",
    "import inference_gym.using_jax as gym\n",
    "import jax\n",
    "import jax.numpy as jnp\n",
    "import matplotlib.pyplot as plt\n",
    "import sys\n",
    "sys.path.append('..')\n",
    "sys.path.append('./sampler-comparison')\n",
    "sys.path.append('../../')\n",
    "from sampler_comparison.samplers import samplers\n",
    "import seaborn as sns\n",
    "\n",
    "\n",
    "\n",
    "def compare(model):\n",
    "\n",
    "        dirr = \"/global/homes/r/reubenh/blackjax-benchmarks\"\n",
    "        with open(f\"{dirr}/sampler-evaluation/sampler_evaluation/models/data/{model.name}_expectations.pkl\", \"rb\") as f:\n",
    "                stats = pickle.load(f)\n",
    "                e_x = stats['e_x']\n",
    "                print(\"from blackjax run: \", e_x)\n",
    "\n",
    "        print(\"from gym: \", model.sample_transformations['identity'].ground_truth_mean)\n",
    "\n",
    "        \n",
    "model = gym.targets.VectorModel(gym.targets.BrownianMotionUnknownScalesMissingMiddleObservations(), flatten_sample_transformations=True)\n",
    "\n",
    "compare(model)"
   ]
  },
  {
   "cell_type": "code",
   "execution_count": 3,
   "metadata": {},
   "outputs": [
    {
     "name": "stderr",
     "output_type": "stream",
     "text": [
      "An NVIDIA GPU may be present on this machine, but a CUDA-enabled jaxlib is not installed. Falling back to cpu.\n"
     ]
    },
    {
     "name": "stdout",
     "output_type": "stream",
     "text": [
      "['demo.py', 'demo.ipynb']\n"
     ]
    },
    {
     "ename": "Exception",
     "evalue": "Expectations not found: run estimate_expectations.py to generate them",
     "output_type": "error",
     "traceback": [
      "\u001b[0;31m---------------------------------------------------------------------------\u001b[0m",
      "\u001b[0;31mFileNotFoundError\u001b[0m                         Traceback (most recent call last)",
      "File \u001b[0;32m/global/u1/r/reubenh/blackjax-benchmarks/sampler-evaluation/sampler_evaluation/models/banana.py:14\u001b[0m, in \u001b[0;36mbanana\u001b[0;34m()\u001b[0m\n\u001b[1;32m     13\u001b[0m \u001b[39mtry\u001b[39;00m:\n\u001b[0;32m---> 14\u001b[0m     \u001b[39mwith\u001b[39;00m \u001b[39mopen\u001b[39;49m(\u001b[39mf\u001b[39;49m\u001b[39m\"\u001b[39;49m\u001b[39m../sampler-evaluation/sampler_evaluation/models/data/\u001b[39;49m\u001b[39m{\u001b[39;49;00mbanana\u001b[39m.\u001b[39;49mname\u001b[39m}\u001b[39;49;00m\u001b[39m_expectations.pkl\u001b[39;49m\u001b[39m\"\u001b[39;49m, \u001b[39m\"\u001b[39;49m\u001b[39mrb\u001b[39;49m\u001b[39m\"\u001b[39;49m) \u001b[39mas\u001b[39;00m f:\n\u001b[1;32m     15\u001b[0m         stats \u001b[39m=\u001b[39m pickle\u001b[39m.\u001b[39mload(f)\n",
      "\u001b[0;31mFileNotFoundError\u001b[0m: [Errno 2] No such file or directory: '../sampler-evaluation/sampler_evaluation/models/data/banana_expectations.pkl'",
      "\nDuring handling of the above exception, another exception occurred:\n",
      "\u001b[0;31mException\u001b[0m                                 Traceback (most recent call last)",
      "\u001b[1;32m/global/homes/r/reubenh/blackjax-benchmarks/sampler-comparison/sampler_comparison/examples/demo.ipynb Cell 5\u001b[0m line \u001b[0;36m1\n\u001b[1;32m     <a href='vscode-notebook-cell://ssh-remote%2Bpm/global/homes/r/reubenh/blackjax-benchmarks/sampler-comparison/sampler_comparison/examples/demo.ipynb#W4sdnNjb2RlLXJlbW90ZQ%3D%3D?line=98'>99</a>\u001b[0m \u001b[39m# print(os.listdir('../../MicroCanonicalHMC/benchmarks/'), \"\\n\\n\\n barbarz \\n\\n\\n\")\u001b[39;00m\n\u001b[1;32m    <a href='vscode-notebook-cell://ssh-remote%2Bpm/global/homes/r/reubenh/blackjax-benchmarks/sampler-comparison/sampler_comparison/examples/demo.ipynb#W4sdnNjb2RlLXJlbW90ZQ%3D%3D?line=100'>101</a>\u001b[0m \u001b[39mimport\u001b[39;00m \u001b[39minference_models\u001b[39;00m\n\u001b[0;32m--> <a href='vscode-notebook-cell://ssh-remote%2Bpm/global/homes/r/reubenh/blackjax-benchmarks/sampler-comparison/sampler_comparison/examples/demo.ipynb#W4sdnNjb2RlLXJlbW90ZQ%3D%3D?line=101'>102</a>\u001b[0m \u001b[39mfrom\u001b[39;00m \u001b[39msampler_evaluation\u001b[39;00m\u001b[39m.\u001b[39;00m\u001b[39mmodels\u001b[39;00m\u001b[39m.\u001b[39;00m\u001b[39mstochastic_volatility\u001b[39;00m \u001b[39mimport\u001b[39;00m stochastic_volatility\n",
      "File \u001b[0;32m/global/u1/r/reubenh/blackjax-benchmarks/sampler-evaluation/sampler_evaluation/models/__init__.py:14\u001b[0m\n\u001b[1;32m      9\u001b[0m \u001b[39mfrom\u001b[39;00m \u001b[39msampler_evaluation\u001b[39;00m\u001b[39m.\u001b[39;00m\u001b[39mmodels\u001b[39;00m\u001b[39m.\u001b[39;00m\u001b[39mstochastic_volatility\u001b[39;00m \u001b[39mimport\u001b[39;00m stochastic_volatility\n\u001b[1;32m     10\u001b[0m \u001b[39mfrom\u001b[39;00m \u001b[39msampler_evaluation\u001b[39;00m\u001b[39m.\u001b[39;00m\u001b[39mmodels\u001b[39;00m\u001b[39m.\u001b[39;00m\u001b[39mitem_response\u001b[39;00m \u001b[39mimport\u001b[39;00m item_response\n\u001b[1;32m     13\u001b[0m models \u001b[39m=\u001b[39m {\n\u001b[0;32m---> 14\u001b[0m     \u001b[39m\"\u001b[39m\u001b[39mBanana\u001b[39m\u001b[39m\"\u001b[39m: banana(),\n\u001b[1;32m     15\u001b[0m     \u001b[39m\"\u001b[39m\u001b[39mGaussian_10D\u001b[39m\u001b[39m\"\u001b[39m: Gaussian(ndims\u001b[39m=\u001b[39m\u001b[39m10\u001b[39m),\n\u001b[1;32m     16\u001b[0m     \u001b[39m\"\u001b[39m\u001b[39mBrownian_Motion\u001b[39m\u001b[39m\"\u001b[39m: brownian_motion(),\n\u001b[1;32m     17\u001b[0m     \u001b[39m\"\u001b[39m\u001b[39mGerman_Credit\u001b[39m\u001b[39m\"\u001b[39m: german_credit(),\n\u001b[1;32m     18\u001b[0m     \u001b[39m\"\u001b[39m\u001b[39mStochastic_Volatility\u001b[39m\u001b[39m\"\u001b[39m: stochastic_volatility(),\n\u001b[1;32m     19\u001b[0m     \u001b[39m\"\u001b[39m\u001b[39mItem_Response\u001b[39m\u001b[39m\"\u001b[39m: item_response(),\n\u001b[1;32m     20\u001b[0m }\n",
      "File \u001b[0;32m/global/u1/r/reubenh/blackjax-benchmarks/sampler-evaluation/sampler_evaluation/models/banana.py:17\u001b[0m, in \u001b[0;36mbanana\u001b[0;34m()\u001b[0m\n\u001b[1;32m     15\u001b[0m         stats \u001b[39m=\u001b[39m pickle\u001b[39m.\u001b[39mload(f)\n\u001b[1;32m     16\u001b[0m \u001b[39mexcept\u001b[39;00m:\n\u001b[0;32m---> 17\u001b[0m     \u001b[39mraise\u001b[39;00m \u001b[39mException\u001b[39;00m(\u001b[39m\"\u001b[39m\u001b[39mExpectations not found: run estimate_expectations.py to generate them\u001b[39m\u001b[39m\"\u001b[39m)\n\u001b[1;32m     19\u001b[0m e_x2 \u001b[39m=\u001b[39m stats[\u001b[39m'\u001b[39m\u001b[39me_x2\u001b[39m\u001b[39m'\u001b[39m]\n\u001b[1;32m     20\u001b[0m e_x4 \u001b[39m=\u001b[39m stats[\u001b[39m'\u001b[39m\u001b[39me_x4\u001b[39m\u001b[39m'\u001b[39m]\n",
      "\u001b[0;31mException\u001b[0m: Expectations not found: run estimate_expectations.py to generate them"
     ]
    }
   ],
   "source": [
    "# class Brownian():\n",
    "#     \"\"\"\n",
    "#     log sigma_i ~ N(0, 2)\n",
    "#     log sigma_obs ~N(0, 2)\n",
    "\n",
    "#     x ~ RandomWalk(0, sigma_i)\n",
    "#     x_observed = (x + noise) * mask\n",
    "#     noise ~ N(0, sigma_obs)\n",
    "#     mask = 1 1 1 1 1 1 1 1 1 1 0 0 0 0 0 0 0 0 0 0 1 1 1 1 1 1 1 1 1 1\n",
    "#     \"\"\"\n",
    "\n",
    "#     def __init__(self):\n",
    "        \n",
    "#         self.name = 'Brownian'\n",
    "#         self.num_data = 30\n",
    "#         self.ndims = self.num_data + 2\n",
    "\n",
    "#         # self.E_x, self.E_x2, self.Var_x2, self.cov, self.inv_cov = load_cov(self.name)\n",
    "        \n",
    "#         self.data = jnp.array([0.21592641, 0.118771404, -0.07945447, 0.037677474, -0.27885845, -0.1484156, -0.3250906, -0.22957903,\n",
    "#                                -0.44110894, -0.09830782, 0.0, 0.0, 0.0, 0.0, 0.0, 0.0, 0.0, 0.0, 0.0, 0.0, -0.8786016, -0.83736074,\n",
    "#                                -0.7384849, -0.8939254, -0.7774566, -0.70238715, -0.87771565, -0.51853573, -0.6948214, -0.6202789])\n",
    "#         # sigma_obs = 0.15, sigma_i = 0.1\n",
    "\n",
    "#         self.observable = jnp.concatenate((jnp.ones(10), jnp.zeros(10), jnp.ones(10)))\n",
    "#         self.num_observable = jnp.sum(self.observable)  # = 20\n",
    "        \n",
    "\n",
    "#     def logdensity_fn(self, x):\n",
    "#         # y = softplus_to_log(x[:2])\n",
    "\n",
    "#         lik = 0.5 * jnp.exp(-2 * x[1]) * jnp.sum(self.observable * jnp.square(x[2:] - self.data)) + x[\n",
    "#             1] * self.num_observable\n",
    "#         prior_x = 0.5 * jnp.exp(-2 * x[0]) * (x[2] ** 2 + jnp.sum(jnp.square(x[3:] - x[2:-1]))) + x[0] * self.num_data\n",
    "#         prior_logsigma = 0.5 * jnp.sum(jnp.square(x / 2.0))\n",
    "\n",
    "#         return -lik - prior_x - prior_logsigma\n",
    "\n",
    "\n",
    "#     def transform(self, x):\n",
    "#         return jnp.concatenate((jnp.exp(x[:2]), x[2:]))\n",
    "\n",
    "# class GermanCredit:\n",
    "#     \"\"\" Taken from inference gym.\n",
    "\n",
    "#         x = (global scale, local scales, weights)\n",
    "\n",
    "#         global_scale ~ Gamma(0.5, 0.5)\n",
    "\n",
    "#         for i in range(num_features):\n",
    "#             unscaled_weights[i] ~ Normal(loc=0, scale=1)\n",
    "#             local_scales[i] ~ Gamma(0.5, 0.5)\n",
    "#             weights[i] = unscaled_weights[i] * local_scales[i] * global_scale\n",
    "\n",
    "#         for j in range(num_datapoints):\n",
    "#             label[j] ~ Bernoulli(features @ weights)\n",
    "\n",
    "#         We use a log transform for the scale parameters.\n",
    "#     \"\"\"\n",
    "\n",
    "#     def __init__(self):\n",
    "        \n",
    "#         self.name = 'GermanCredit'\n",
    "#         self.ndims = 51 #global scale + 25 local scales + 25 weights\n",
    "\n",
    "#         dirr = \"../../../../MicroCanonicalHMC/benchmarks/\"\n",
    "        \n",
    "\n",
    "#         self.labels = jnp.load(dirr + 'data/gc_labels.npy')\n",
    "#         self.features = jnp.load(dirr + 'data/gc_features.npy')\n",
    "\n",
    "#         # self.E_x, self.E_x2, self.Var_x2, self.cov, self.inv_cov = load_cov(self.name)\n",
    "        \n",
    "        \n",
    "#     def transform(self, x):\n",
    "#         return jnp.concatenate((jnp.exp(x[:26]), x[26:]))\n",
    "\n",
    "#     def logdensity_fn(self, x):\n",
    "\n",
    "#         scales = jnp.exp(x[:26])\n",
    "\n",
    "#         # prior\n",
    "#         pr = jnp.sum(0.5 * scales + 0.5 * x[:26]) + 0.5 * jnp.sum(jnp.square(x[26:]))\n",
    "\n",
    "#         # transform\n",
    "#         transform = -jnp.sum(x[:26])\n",
    "\n",
    "#         # likelihood\n",
    "#         weights = scales[0] * scales[1:26] * x[26:]\n",
    "#         logits = self.features @ weights # = jnp.einsum('nd,...d->...n', self.features, weights)\n",
    "#         lik = jnp.sum(self.labels * jnp.logaddexp(0., -logits) + (1-self.labels)* jnp.logaddexp(0., logits))\n",
    "\n",
    "#         return -(lik + pr + transform)\n",
    "\n",
    "sys.path.append(\".\")\n",
    "sys.path.append(\"../../../../sampler-evaluation\")\n",
    "sys.path.append(\"../../../../MicroCanonicalHMC/benchmarks/\")\n",
    "import os\n",
    "# print(os.listdir('../../MicroCanonicalHMC/benchmarks/'), \"\\n\\n\\n barbarz \\n\\n\\n\")\n",
    "\n",
    "import inference_models\n",
    "from sampler_evaluation.models.stochastic_volatility import stochastic_volatility"
   ]
  },
  {
   "cell_type": "code",
   "execution_count": 31,
   "metadata": {},
   "outputs": [
    {
     "data": {
      "text/plain": [
       "'banana'"
      ]
     },
     "execution_count": 31,
     "metadata": {},
     "output_type": "execute_result"
    }
   ],
   "source": []
  },
  {
   "cell_type": "code",
   "execution_count": 8,
   "metadata": {},
   "outputs": [
    {
     "data": {
      "text/plain": [
       "Array(-57.037537, dtype=float32)"
      ]
     },
     "execution_count": 8,
     "metadata": {},
     "output_type": "execute_result"
    }
   ],
   "source": [
    "Brownian().logdensity_fn(jnp.ones((32,)))"
   ]
  },
  {
   "cell_type": "code",
   "execution_count": null,
   "metadata": {},
   "outputs": [],
   "source": [
    "def make_target_log_prob_fn(model):\n",
    "  def target_log_prob_fn(z):\n",
    "    x = model.default_event_space_bijector(z)\n",
    "    return (model.unnormalized_log_prob(x) + \n",
    "            model.default_event_space_bijector.forward_log_det_jacobian(z, event_ndims=1))\n",
    "  return target_log_prob_fn\n"
   ]
  },
  {
   "cell_type": "code",
   "execution_count": 20,
   "metadata": {},
   "outputs": [
    {
     "name": "stderr",
     "output_type": "stream",
     "text": [
      "/global/homes/r/reubenh/.conda/envs/jax2024/lib/python3.11/site-packages/jax/_src/numpy/array_methods.py:68: UserWarning: Explicitly requested dtype float64 requested in astype is not available, and will be truncated to dtype float32. To enable more dtypes, set the jax_enable_x64 configuration option or the JAX_ENABLE_X64 shell environment variable. See https://github.com/google/jax#current-gotchas for more.\n",
      "  return lax_numpy.astype(arr, dtype, copy=copy, device=device)\n",
      "/global/homes/r/reubenh/.conda/envs/jax2024/lib/python3.11/site-packages/jax/_src/numpy/array_methods.py:68: UserWarning: Explicitly requested dtype float64 requested in astype is not available, and will be truncated to dtype float32. To enable more dtypes, set the jax_enable_x64 configuration option or the JAX_ENABLE_X64 shell environment variable. See https://github.com/google/jax#current-gotchas for more.\n",
      "  return lax_numpy.astype(arr, dtype, copy=copy, device=device)\n",
      "/global/homes/r/reubenh/.conda/envs/jax2024/lib/python3.11/site-packages/jax/_src/numpy/array_methods.py:68: UserWarning: Explicitly requested dtype float64 requested in astype is not available, and will be truncated to dtype float32. To enable more dtypes, set the jax_enable_x64 configuration option or the JAX_ENABLE_X64 shell environment variable. See https://github.com/google/jax#current-gotchas for more.\n",
      "  return lax_numpy.astype(arr, dtype, copy=copy, device=device)\n",
      "/global/homes/r/reubenh/.conda/envs/jax2024/lib/python3.11/site-packages/jax/_src/numpy/array_methods.py:68: UserWarning: Explicitly requested dtype float64 requested in astype is not available, and will be truncated to dtype float32. To enable more dtypes, set the jax_enable_x64 configuration option or the JAX_ENABLE_X64 shell environment variable. See https://github.com/google/jax#current-gotchas for more.\n",
      "  return lax_numpy.astype(arr, dtype, copy=copy, device=device)\n",
      "/global/homes/r/reubenh/.conda/envs/jax2024/lib/python3.11/site-packages/jax/_src/numpy/array_methods.py:68: UserWarning: Explicitly requested dtype float64 requested in astype is not available, and will be truncated to dtype float32. To enable more dtypes, set the jax_enable_x64 configuration option or the JAX_ENABLE_X64 shell environment variable. See https://github.com/google/jax#current-gotchas for more.\n",
      "  return lax_numpy.astype(arr, dtype, copy=copy, device=device)\n",
      "/global/homes/r/reubenh/.conda/envs/jax2024/lib/python3.11/site-packages/jax/_src/numpy/array_methods.py:68: UserWarning: Explicitly requested dtype float64 requested in astype is not available, and will be truncated to dtype float32. To enable more dtypes, set the jax_enable_x64 configuration option or the JAX_ENABLE_X64 shell environment variable. See https://github.com/google/jax#current-gotchas for more.\n",
      "  return lax_numpy.astype(arr, dtype, copy=copy, device=device)\n",
      "/global/homes/r/reubenh/.conda/envs/jax2024/lib/python3.11/site-packages/jax/_src/numpy/array_methods.py:68: UserWarning: Explicitly requested dtype float64 requested in astype is not available, and will be truncated to dtype float32. To enable more dtypes, set the jax_enable_x64 configuration option or the JAX_ENABLE_X64 shell environment variable. See https://github.com/google/jax#current-gotchas for more.\n",
      "  return lax_numpy.astype(arr, dtype, copy=copy, device=device)\n",
      "/global/homes/r/reubenh/.conda/envs/jax2024/lib/python3.11/site-packages/jax/_src/numpy/array_methods.py:68: UserWarning: Explicitly requested dtype float64 requested in astype is not available, and will be truncated to dtype float32. To enable more dtypes, set the jax_enable_x64 configuration option or the JAX_ENABLE_X64 shell environment variable. See https://github.com/google/jax#current-gotchas for more.\n",
      "  return lax_numpy.astype(arr, dtype, copy=copy, device=device)\n",
      "/global/homes/r/reubenh/.conda/envs/jax2024/lib/python3.11/site-packages/jax/_src/numpy/array_methods.py:68: UserWarning: Explicitly requested dtype float64 requested in astype is not available, and will be truncated to dtype float32. To enable more dtypes, set the jax_enable_x64 configuration option or the JAX_ENABLE_X64 shell environment variable. See https://github.com/google/jax#current-gotchas for more.\n",
      "  return lax_numpy.astype(arr, dtype, copy=copy, device=device)\n"
     ]
    },
    {
     "data": {
      "text/plain": [
       "Array([ 0.11984811,  0.10274264,  0.06093274, -0.03870019, -0.04362268,\n",
       "       -0.19021639, -0.1856622 , -0.26851514, -0.26010785, -0.3334386 ,\n",
       "       -0.21788554, -0.2735482 , -0.33083084, -0.38252977, -0.43280044,\n",
       "       -0.49400684, -0.54860604, -0.60449123, -0.65569454, -0.7083658 ,\n",
       "       -0.76391494, -0.8189823 , -0.8105346 , -0.7771473 , -0.8268097 ,\n",
       "       -0.7768991 , -0.7374106 , -0.7740582 , -0.6294383 , -0.670295  ,\n",
       "       -0.6432216 ,  0.10105278], dtype=float32)"
      ]
     },
     "execution_count": 20,
     "metadata": {},
     "output_type": "execute_result"
    }
   ],
   "source": [
    "# from sampler_comparison.samplers.general import initialize_model, make_transform\n",
    "# from sampler_comparison.samplers.hamiltonianmontecarlo.nuts import nuts\n",
    "# from sampler_comparison.samplers.microcanonicalmontecarlo.unadjusted import unadjusted_mclmc\n",
    "\n",
    "# # model = gym.targets.BrownianMotionUnknownScalesMissingMiddleObservations()\n",
    "# # model = gym.targets.Banana()\n",
    "\n",
    "# def initialize_model(model, key):\n",
    "\n",
    "#   def random_initialization(shape, dtype):\n",
    "#     return jax.tree.map(lambda d, s: jnp.ones(shape=s, dtype=d), dtype, shape)\n",
    "\n",
    "#   z = jax.tree.map(lambda d, b, s: random_initialization(b.inverse_event_shape(s), d),\n",
    "#                         model.dtype, model.default_event_space_bijector, model.event_shape)\n",
    "\n",
    "#   # x = jax.tree.map(lambda z, b: b(z), z, model.default_event_space_bijector)\n",
    "\n",
    "#   return z\n",
    "\n",
    "# initial_position = initialize_model(model, key=jax.random.PRNGKey(0))\n",
    "\n",
    "\n",
    "# model.unnormalized_log_prob(make_transform(model)(initial_position)) \n",
    "# # + model.default_event_space_bijector.forward_log_det_jacobian(initial_position, event_ndims=1)\n",
    "# # model.unnormalized_log_prob(initial_position)\n",
    "\n",
    "# # jax.tree.map(lambda b, z: b(z), gym.targets.BrownianMotionUnknownScalesMissingMiddleObservations().default_event_space_bijector, foo)\n",
    "\n",
    "# # BrownianMotionUnknownScalesMissingMiddleObservations().default_event_space_bijector\n",
    "\n",
    "# # samples, metadata = nuts(return_samples=True)(\n",
    "# #         # model=gym.targets.BrownianMotionUnknownScalesMissingMiddleObservations(), \n",
    "# #         model=model, \n",
    "# #         num_steps=1000,\n",
    "# #         # initial_position=initialize_model(model, key=jax.random.PRNGKey(0)), \n",
    "# #         initial_position=initialize_model(model, key=jax.random.PRNGKey(0)), \n",
    "# #         key=jax.random.PRNGKey(0))\n",
    "\n",
    "# # make_transform(model)(initial_position)\n",
    "\n",
    "# # jax.tree.map(lambda x: 1,make_transform(model)(initial_position))\n",
    "\n",
    "\n",
    "model = gym.targets.VectorModel(gym.targets.BrownianMotionUnknownScalesMissingMiddleObservations(), flatten_sample_transformations=True)\n",
    "\n",
    "model.sample_transformations[ \"identity\"\n",
    "                        ].ground_truth_mean\n",
    "\n",
    "# model = gym.targets.VectorModel(gym.targets.GermanCreditNumericSparseLogisticRegression(), flatten_sample_transformations=True)\n",
    "# model = gym.targets.VectorModel(gym.targets.VectorizedStochasticVolatilityLogSP500(), flatten_sample_transformations=True)\n",
    "# model.event_shape\n",
    "\n",
    "# model = gym.targets.VectorModel(gym.targets.SyntheticItemResponseTheory(), flatten_sample_transformations=True)\n",
    "\n",
    "# model.default_event_space_bijector\n",
    "\n",
    "\n",
    "# print(jax.grad(target_log_prob_fn)(jnp.ones((51,))))\n",
    "# print(jax.grad(GermanCredit().logdensity_fn)(jnp.ones((51,))))\n",
    "\n",
    "# print(jax.grad(make_target_log_prob_fn(model))(jnp.ones((501,))))\n",
    "# print(jax.grad(inference_models.ItemResponseTheory().logdensity_fn)(jnp.ones((501,))))\n",
    "\n",
    "# print(jax.grad(make_target_log_prob_fn(model))(jnp.ones((2519,))))\n",
    "# print(jax.grad(inference_models.StochasticVolatility().logdensity_fn)(jnp.ones((2519,))))\n",
    "# print(inference_models.StochasticVolatility().logdensity_fn(jnp.ones((2429,))))\n",
    "\n",
    "# print(target_log_prob_fn(jnp.ones((32,))))\n",
    "# print(Brownian().logdensity_fn(jnp.ones((32,))))"
   ]
  },
  {
   "cell_type": "code",
   "execution_count": 21,
   "metadata": {},
   "outputs": [
    {
     "data": {
      "text/plain": [
       "array([ 0.11523843,  0.11286443,  0.09281074,  0.05646418, -0.03425717,\n",
       "       -0.05085291, -0.18207422, -0.18943499, -0.2626584 , -0.262576  ,\n",
       "       -0.32351834, -0.22948493, -0.28225303, -0.33584505, -0.38882157,\n",
       "       -0.44218862, -0.49562865, -0.5478393 , -0.6018324 , -0.6544354 ,\n",
       "       -0.7073747 , -0.7601094 , -0.8155371 , -0.81037855, -0.78281546,\n",
       "       -0.82298577, -0.7782092 , -0.74123335, -0.7644323 , -0.63898563,\n",
       "       -0.6667262 , -0.643427  ], dtype=float32)"
      ]
     },
     "execution_count": 21,
     "metadata": {},
     "output_type": "execute_result"
    }
   ],
   "source": [
    "# import os\n",
    "import pickle\n",
    "# os.listdir(\"../../../sampler-evaluation/sampler_evaluation/models/data/\")\n",
    "with open(f\"../../../sampler-evaluation/sampler_evaluation/models/data/{model.name}_expectations.pkl\", \"rb\") as f:\n",
    "        stats = pickle.load(f)\n",
    "\n",
    "e_x = stats[\"e_x\"]\n",
    "e_x"
   ]
  },
  {
   "cell_type": "code",
   "execution_count": 25,
   "metadata": {},
   "outputs": [
    {
     "name": "stdout",
     "output_type": "stream",
     "text": [
      "[ 0.11984811  0.10274264  0.06093274 -0.03870019 -0.04362268 -0.19021639\n",
      " -0.1856622  -0.26851514 -0.26010785 -0.3334386  -0.21788554 -0.2735482\n",
      " -0.33083084 -0.38252977 -0.43280044 -0.49400684 -0.54860604 -0.60449123\n",
      " -0.65569454 -0.7083658  -0.76391494 -0.8189823  -0.8105346  -0.7771473\n",
      " -0.8268097  -0.7768991  -0.7374106  -0.7740582  -0.6294383  -0.670295\n",
      " -0.6432216   0.10105278]\n",
      "{'innovation_noise_scale': array(0.11984811), 'observation_noise_scale': array(0.10105278), 'locs': array([ 0.10274264,  0.06093274, -0.03870019, -0.04362268, -0.19021639,\n",
      "       -0.1856622 , -0.26851513, -0.26010784, -0.3334386 , -0.21788554,\n",
      "       -0.27354819, -0.33083084, -0.38252977, -0.43280044, -0.49400684,\n",
      "       -0.54860601, -0.60449125, -0.65569453, -0.70836578, -0.76391497,\n",
      "       -0.8189823 , -0.81053462, -0.7771473 , -0.82680971, -0.77689911,\n",
      "       -0.73741063, -0.7740582 , -0.62943829, -0.67029499, -0.6432216 ])}\n"
     ]
    },
    {
     "name": "stderr",
     "output_type": "stream",
     "text": [
      "/global/homes/r/reubenh/.conda/envs/jax2024/lib/python3.11/site-packages/jax/_src/numpy/array_methods.py:68: UserWarning: Explicitly requested dtype float64 requested in astype is not available, and will be truncated to dtype float32. To enable more dtypes, set the jax_enable_x64 configuration option or the JAX_ENABLE_X64 shell environment variable. See https://github.com/google/jax#current-gotchas for more.\n",
      "  return lax_numpy.astype(arr, dtype, copy=copy, device=device)\n",
      "/global/homes/r/reubenh/.conda/envs/jax2024/lib/python3.11/site-packages/jax/_src/numpy/array_methods.py:68: UserWarning: Explicitly requested dtype float64 requested in astype is not available, and will be truncated to dtype float32. To enable more dtypes, set the jax_enable_x64 configuration option or the JAX_ENABLE_X64 shell environment variable. See https://github.com/google/jax#current-gotchas for more.\n",
      "  return lax_numpy.astype(arr, dtype, copy=copy, device=device)\n",
      "/global/homes/r/reubenh/.conda/envs/jax2024/lib/python3.11/site-packages/jax/_src/numpy/array_methods.py:68: UserWarning: Explicitly requested dtype float64 requested in astype is not available, and will be truncated to dtype float32. To enable more dtypes, set the jax_enable_x64 configuration option or the JAX_ENABLE_X64 shell environment variable. See https://github.com/google/jax#current-gotchas for more.\n",
      "  return lax_numpy.astype(arr, dtype, copy=copy, device=device)\n",
      "/global/homes/r/reubenh/.conda/envs/jax2024/lib/python3.11/site-packages/jax/_src/numpy/array_methods.py:68: UserWarning: Explicitly requested dtype float64 requested in astype is not available, and will be truncated to dtype float32. To enable more dtypes, set the jax_enable_x64 configuration option or the JAX_ENABLE_X64 shell environment variable. See https://github.com/google/jax#current-gotchas for more.\n",
      "  return lax_numpy.astype(arr, dtype, copy=copy, device=device)\n",
      "/global/homes/r/reubenh/.conda/envs/jax2024/lib/python3.11/site-packages/jax/_src/numpy/array_methods.py:68: UserWarning: Explicitly requested dtype float64 requested in astype is not available, and will be truncated to dtype float32. To enable more dtypes, set the jax_enable_x64 configuration option or the JAX_ENABLE_X64 shell environment variable. See https://github.com/google/jax#current-gotchas for more.\n",
      "  return lax_numpy.astype(arr, dtype, copy=copy, device=device)\n",
      "/global/homes/r/reubenh/.conda/envs/jax2024/lib/python3.11/site-packages/jax/_src/numpy/array_methods.py:68: UserWarning: Explicitly requested dtype float64 requested in astype is not available, and will be truncated to dtype float32. To enable more dtypes, set the jax_enable_x64 configuration option or the JAX_ENABLE_X64 shell environment variable. See https://github.com/google/jax#current-gotchas for more.\n",
      "  return lax_numpy.astype(arr, dtype, copy=copy, device=device)\n",
      "/global/homes/r/reubenh/.conda/envs/jax2024/lib/python3.11/site-packages/jax/_src/numpy/array_methods.py:68: UserWarning: Explicitly requested dtype float64 requested in astype is not available, and will be truncated to dtype float32. To enable more dtypes, set the jax_enable_x64 configuration option or the JAX_ENABLE_X64 shell environment variable. See https://github.com/google/jax#current-gotchas for more.\n",
      "  return lax_numpy.astype(arr, dtype, copy=copy, device=device)\n",
      "/global/homes/r/reubenh/.conda/envs/jax2024/lib/python3.11/site-packages/jax/_src/numpy/array_methods.py:68: UserWarning: Explicitly requested dtype float64 requested in astype is not available, and will be truncated to dtype float32. To enable more dtypes, set the jax_enable_x64 configuration option or the JAX_ENABLE_X64 shell environment variable. See https://github.com/google/jax#current-gotchas for more.\n",
      "  return lax_numpy.astype(arr, dtype, copy=copy, device=device)\n",
      "/global/homes/r/reubenh/.conda/envs/jax2024/lib/python3.11/site-packages/jax/_src/numpy/array_methods.py:68: UserWarning: Explicitly requested dtype float64 requested in astype is not available, and will be truncated to dtype float32. To enable more dtypes, set the jax_enable_x64 configuration option or the JAX_ENABLE_X64 shell environment variable. See https://github.com/google/jax#current-gotchas for more.\n",
      "  return lax_numpy.astype(arr, dtype, copy=copy, device=device)\n"
     ]
    }
   ],
   "source": [
    "\n",
    "print(gym.targets.VectorModel(gym.targets.BrownianMotionUnknownScalesMissingMiddleObservations(), flatten_sample_transformations=True).sample_transformations[\"identity\"].ground_truth_mean)\n",
    "print(gym.targets.BrownianMotionUnknownScalesMissingMiddleObservations().sample_transformations[\"identity\"].ground_truth_mean)"
   ]
  },
  {
   "cell_type": "code",
   "execution_count": 27,
   "metadata": {},
   "outputs": [
    {
     "name": "stdout",
     "output_type": "stream",
     "text": [
      "['demo.py', 'demo.ipynb']\n"
     ]
    },
    {
     "ename": "Exception",
     "evalue": "Expectations not found: run estimate_expectations.py to generate them",
     "output_type": "error",
     "traceback": [
      "\u001b[0;31m---------------------------------------------------------------------------\u001b[0m",
      "\u001b[0;31mFileNotFoundError\u001b[0m                         Traceback (most recent call last)",
      "File \u001b[0;32m/global/u1/r/reubenh/blackjax-benchmarks/sampler-evaluation/sampler_evaluation/models/banana.py:14\u001b[0m, in \u001b[0;36mbanana\u001b[0;34m()\u001b[0m\n\u001b[1;32m     13\u001b[0m \u001b[39mtry\u001b[39;00m:\n\u001b[0;32m---> 14\u001b[0m     \u001b[39mwith\u001b[39;00m \u001b[39mopen\u001b[39;49m(\u001b[39mf\u001b[39;49m\u001b[39m\"\u001b[39;49m\u001b[39m../sampler-evaluation/sampler_evaluation/models/data/\u001b[39;49m\u001b[39m{\u001b[39;49;00mbanana\u001b[39m.\u001b[39;49mname\u001b[39m}\u001b[39;49;00m\u001b[39m_expectations.pkl\u001b[39;49m\u001b[39m\"\u001b[39;49m, \u001b[39m\"\u001b[39;49m\u001b[39mrb\u001b[39;49m\u001b[39m\"\u001b[39;49m) \u001b[39mas\u001b[39;00m f:\n\u001b[1;32m     15\u001b[0m         stats \u001b[39m=\u001b[39m pickle\u001b[39m.\u001b[39mload(f)\n",
      "\u001b[0;31mFileNotFoundError\u001b[0m: [Errno 2] No such file or directory: '../sampler-evaluation/sampler_evaluation/models/data/banana_expectations.pkl'",
      "\nDuring handling of the above exception, another exception occurred:\n",
      "\u001b[0;31mException\u001b[0m                                 Traceback (most recent call last)",
      "\u001b[1;32m/global/homes/r/reubenh/blackjax-benchmarks/sampler-comparison/sampler_comparison/examples/demo.ipynb Cell 12\u001b[0m line \u001b[0;36m6\n\u001b[1;32m      <a href='vscode-notebook-cell://ssh-remote%2Bpm/global/homes/r/reubenh/blackjax-benchmarks/sampler-comparison/sampler_comparison/examples/demo.ipynb#X13sdnNjb2RlLXJlbW90ZQ%3D%3D?line=3'>4</a>\u001b[0m \u001b[39mimport\u001b[39;00m \u001b[39mpandas\u001b[39;00m \u001b[39mas\u001b[39;00m \u001b[39mpd\u001b[39;00m\n\u001b[1;32m      <a href='vscode-notebook-cell://ssh-remote%2Bpm/global/homes/r/reubenh/blackjax-benchmarks/sampler-comparison/sampler_comparison/examples/demo.ipynb#X13sdnNjb2RlLXJlbW90ZQ%3D%3D?line=4'>5</a>\u001b[0m \u001b[39mfrom\u001b[39;00m \u001b[39msampler_comparison\u001b[39;00m\u001b[39m.\u001b[39;00m\u001b[39msamplers\u001b[39;00m \u001b[39mimport\u001b[39;00m samplers\n\u001b[0;32m----> <a href='vscode-notebook-cell://ssh-remote%2Bpm/global/homes/r/reubenh/blackjax-benchmarks/sampler-comparison/sampler_comparison/examples/demo.ipynb#X13sdnNjb2RlLXJlbW90ZQ%3D%3D?line=5'>6</a>\u001b[0m \u001b[39mfrom\u001b[39;00m \u001b[39msampler_evaluation\u001b[39;00m\u001b[39m.\u001b[39;00m\u001b[39mmodels\u001b[39;00m \u001b[39mimport\u001b[39;00m models\n\u001b[1;32m      <a href='vscode-notebook-cell://ssh-remote%2Bpm/global/homes/r/reubenh/blackjax-benchmarks/sampler-comparison/sampler_comparison/examples/demo.ipynb#X13sdnNjb2RlLXJlbW90ZQ%3D%3D?line=7'>8</a>\u001b[0m \u001b[39m# show paths available\u001b[39;00m\n\u001b[1;32m      <a href='vscode-notebook-cell://ssh-remote%2Bpm/global/homes/r/reubenh/blackjax-benchmarks/sampler-comparison/sampler_comparison/examples/demo.ipynb#X13sdnNjb2RlLXJlbW90ZQ%3D%3D?line=8'>9</a>\u001b[0m os\u001b[39m.\u001b[39mlistdir(os\u001b[39m.\u001b[39mpath\u001b[39m.\u001b[39mjoin(\u001b[39m'\u001b[39m\u001b[39m../\u001b[39m\u001b[39m'\u001b[39m, \u001b[39m'\u001b[39m\u001b[39mresults\u001b[39m\u001b[39m'\u001b[39m))\n",
      "File \u001b[0;32m/global/u1/r/reubenh/blackjax-benchmarks/sampler-evaluation/sampler_evaluation/models/__init__.py:14\u001b[0m\n\u001b[1;32m      9\u001b[0m \u001b[39mfrom\u001b[39;00m \u001b[39msampler_evaluation\u001b[39;00m\u001b[39m.\u001b[39;00m\u001b[39mmodels\u001b[39;00m\u001b[39m.\u001b[39;00m\u001b[39mstochastic_volatility\u001b[39;00m \u001b[39mimport\u001b[39;00m stochastic_volatility\n\u001b[1;32m     10\u001b[0m \u001b[39mfrom\u001b[39;00m \u001b[39msampler_evaluation\u001b[39;00m\u001b[39m.\u001b[39;00m\u001b[39mmodels\u001b[39;00m\u001b[39m.\u001b[39;00m\u001b[39mitem_response\u001b[39;00m \u001b[39mimport\u001b[39;00m item_response\n\u001b[1;32m     13\u001b[0m models \u001b[39m=\u001b[39m {\n\u001b[0;32m---> 14\u001b[0m     \u001b[39m\"\u001b[39m\u001b[39mBanana\u001b[39m\u001b[39m\"\u001b[39m: banana(),\n\u001b[1;32m     15\u001b[0m     \u001b[39m\"\u001b[39m\u001b[39mGaussian_10D\u001b[39m\u001b[39m\"\u001b[39m: Gaussian(ndims\u001b[39m=\u001b[39m\u001b[39m10\u001b[39m),\n\u001b[1;32m     16\u001b[0m     \u001b[39m\"\u001b[39m\u001b[39mBrownian_Motion\u001b[39m\u001b[39m\"\u001b[39m: brownian_motion(),\n\u001b[1;32m     17\u001b[0m     \u001b[39m\"\u001b[39m\u001b[39mGerman_Credit\u001b[39m\u001b[39m\"\u001b[39m: german_credit(),\n\u001b[1;32m     18\u001b[0m     \u001b[39m\"\u001b[39m\u001b[39mStochastic_Volatility\u001b[39m\u001b[39m\"\u001b[39m: stochastic_volatility(),\n\u001b[1;32m     19\u001b[0m     \u001b[39m\"\u001b[39m\u001b[39mItem_Response\u001b[39m\u001b[39m\"\u001b[39m: item_response(),\n\u001b[1;32m     20\u001b[0m }\n",
      "File \u001b[0;32m/global/u1/r/reubenh/blackjax-benchmarks/sampler-evaluation/sampler_evaluation/models/banana.py:17\u001b[0m, in \u001b[0;36mbanana\u001b[0;34m()\u001b[0m\n\u001b[1;32m     15\u001b[0m         stats \u001b[39m=\u001b[39m pickle\u001b[39m.\u001b[39mload(f)\n\u001b[1;32m     16\u001b[0m \u001b[39mexcept\u001b[39;00m:\n\u001b[0;32m---> 17\u001b[0m     \u001b[39mraise\u001b[39;00m \u001b[39mException\u001b[39;00m(\u001b[39m\"\u001b[39m\u001b[39mExpectations not found: run estimate_expectations.py to generate them\u001b[39m\u001b[39m\"\u001b[39m)\n\u001b[1;32m     19\u001b[0m e_x2 \u001b[39m=\u001b[39m stats[\u001b[39m'\u001b[39m\u001b[39me_x2\u001b[39m\u001b[39m'\u001b[39m]\n\u001b[1;32m     20\u001b[0m e_x4 \u001b[39m=\u001b[39m stats[\u001b[39m'\u001b[39m\u001b[39me_x4\u001b[39m\u001b[39m'\u001b[39m]\n",
      "\u001b[0;31mException\u001b[0m: Expectations not found: run estimate_expectations.py to generate them"
     ]
    }
   ],
   "source": []
  },
  {
   "cell_type": "code",
   "execution_count": 3,
   "metadata": {},
   "outputs": [
    {
     "ename": "NameError",
     "evalue": "name 'df' is not defined",
     "output_type": "error",
     "traceback": [
      "\u001b[0;31m---------------------------------------------------------------------------\u001b[0m",
      "\u001b[0;31mNameError\u001b[0m                                 Traceback (most recent call last)",
      "\u001b[1;32m/global/homes/r/reubenh/blackjax-benchmarks/examples/demo.ipynb Cell 5\u001b[0m line \u001b[0;36m3\n\u001b[1;32m     <a href='vscode-notebook-cell://ssh-remote%2Bpm/global/homes/r/reubenh/blackjax-benchmarks/examples/demo.ipynb#W4sdnNjb2RlLXJlbW90ZQ%3D%3D?line=26'>27</a>\u001b[0m   plt\u001b[39m.\u001b[39mshow()\n\u001b[1;32m     <a href='vscode-notebook-cell://ssh-remote%2Bpm/global/homes/r/reubenh/blackjax-benchmarks/examples/demo.ipynb#W4sdnNjb2RlLXJlbW90ZQ%3D%3D?line=28'>29</a>\u001b[0m \u001b[39m# display_results(\"Gaussian_10D\", df, include_tuning=False)\u001b[39;00m\n\u001b[0;32m---> <a href='vscode-notebook-cell://ssh-remote%2Bpm/global/homes/r/reubenh/blackjax-benchmarks/examples/demo.ipynb#W4sdnNjb2RlLXJlbW90ZQ%3D%3D?line=29'>30</a>\u001b[0m display_results(\u001b[39m\"\u001b[39m\u001b[39mBanana\u001b[39m\u001b[39m\"\u001b[39m, df, include_tuning\u001b[39m=\u001b[39m\u001b[39mFalse\u001b[39;00m)\n",
      "\u001b[0;31mNameError\u001b[0m: name 'df' is not defined"
     ]
    }
   ],
   "source": []
  },
  {
   "cell_type": "code",
   "execution_count": 1,
   "metadata": {},
   "outputs": [
    {
     "name": "stderr",
     "output_type": "stream",
     "text": [
      "2025-02-03 14:05:41.825200: E external/local_xla/xla/stream_executor/cuda/cuda_fft.cc:477] Unable to register cuFFT factory: Attempting to register factory for plugin cuFFT when one has already been registered\n",
      "WARNING: All log messages before absl::InitializeLog() is called are written to STDERR\n",
      "E0000 00:00:1738620341.839458  261284 cuda_dnn.cc:8310] Unable to register cuDNN factory: Attempting to register factory for plugin cuDNN when one has already been registered\n",
      "E0000 00:00:1738620341.844021  261284 cuda_blas.cc:1418] Unable to register cuBLAS factory: Attempting to register factory for plugin cuBLAS when one has already been registered\n",
      "An NVIDIA GPU may be present on this machine, but a CUDA-enabled jaxlib is not installed. Falling back to cpu.\n"
     ]
    }
   ],
   "source": [
    "import sys\n",
    "sys.path.append('..')\n",
    "from sampler_comparison.samplers import samplers\n",
    "from sampler_evaluation.models import banana\n",
    "\n",
    "\n"
   ]
  },
  {
   "cell_type": "code",
   "execution_count": 4,
   "metadata": {},
   "outputs": [
    {
     "data": {
      "text/plain": [
       "Array(-233.6276, dtype=float32)"
      ]
     },
     "execution_count": 4,
     "metadata": {},
     "output_type": "execute_result"
    }
   ],
   "source": [
    "from sampler_evaluation.models.rosenbrock import Rosenbrock_36D\n",
    "import jax.numpy as jnp\n",
    "import jax\n",
    "\n",
    "Rosenbrock_36D().unnormalized_log_prob(jax.random.normal(shape=(36,), key=jax.random.PRNGKey(0)))"
   ]
  },
  {
   "cell_type": "code",
   "execution_count": 5,
   "metadata": {},
   "outputs": [],
   "source": [
    "samples, metadata = samplers['nuts'](return_samples=True)(\n",
    "        model=Rosenbrock_36D(), \n",
    "        num_steps=1000,\n",
    "        initial_position=jnp.ones(36), \n",
    "        key=jax.random.PRNGKey(0))"
   ]
  },
  {
   "cell_type": "code",
   "execution_count": 8,
   "metadata": {},
   "outputs": [
    {
     "data": {
      "text/plain": [
       "<matplotlib.collections.PathCollection at 0x7f834819c790>"
      ]
     },
     "execution_count": 8,
     "metadata": {},
     "output_type": "execute_result"
    },
    {
     "data": {
      "image/png": "[encoded data removed]",
      "text/plain": [
       "<Figure size 640x480 with 1 Axes>"
      ]
     },
     "metadata": {},
     "output_type": "display_data"
    }
   ],
   "source": [
    "plt.scatter(samples[:,0], samples[:,-1], alpha=0.5, s=0.3)"
   ]
  },
  {
   "cell_type": "code",
   "execution_count": 14,
   "metadata": {},
   "outputs": [
    {
     "name": "stdout",
     "output_type": "stream",
     "text": [
      "['debug.ipynb', 'other_ppls.ipynb', 'debug.py', 'demo.ipynb', 'other_ppls_2.ipynb']\n"
     ]
    }
   ],
   "source": [
    "import os\n",
    "print(os.listdir())\n",
    "import sys\n",
    "sys.path.append(\".\")\n",
    "sys.path.append(\"../../../sampler-comparison\")\n",
    "sys.path.append(\"../..\")\n",
    "\n",
    "import blackjax\n",
    "from sampler_comparison.results.run_benchmarks import run_benchmarks\n",
    "from sampler_comparison.samplers.microcanonicalmontecarlo.adjusted import (\n",
    "    adjusted_mclmc,\n",
    "    adjusted_mclmc_tuning,\n",
    ")\n",
    "from sampler_comparison.samplers.microcanonicalmontecarlo.unadjusted import (\n",
    "    unadjusted_mclmc,\n",
    "    unadjusted_mclmc_tuning,\n",
    ")\n",
    "from sampler_comparison.samplers.hamiltonianmontecarlo.nuts import nuts\n",
    "import sampler_evaluation\n",
    "from sampler_evaluation.models.rosenbrock import Rosenbrock_36D\n",
    "# from sampler_evaluation.models.gaussian import Gaussian\n",
    "from sampler_evaluation.models.banana import banana\n",
    "from sampler_evaluation.models.brownian import brownian_motion\n",
    "import jax.numpy as jnp\n",
    "import blackjax\n",
    "from sampler_comparison.samplers.hamiltonianmontecarlo.nuts_tuning import da_adaptation\n",
    "from sampler_comparison.samplers.general import (\n",
    "    with_only_statistics,\n",
    "    make_log_density_fn,\n",
    ")\n",
    "from sampler_comparison.util import *\n",
    "from sampler_comparison.samplers.general import initialize_model\n",
    "import jax\n",
    "\n",
    "\n",
    "def get_cov_mat_nuts(num_tuning_steps, model, key=jax.random.key(0)):\n",
    "\n",
    "    integrator_type = \"velocity_verlet\"\n",
    "\n",
    "\n",
    "\n",
    "    integrator = map_integrator_type_to_integrator[\"hmc\"][integrator_type]\n",
    "\n",
    "    # model = brownian_motion()\n",
    "    logdensity_fn = make_log_density_fn(model)\n",
    "\n",
    "\n",
    "    warmup = blackjax.window_adaptation(\n",
    "                    blackjax.nuts, logdensity_fn, integrator=integrator\n",
    "                )\n",
    "\n",
    "    warmup_key,init_key = jax.random.split(key)\n",
    "    initial_position = initialize_model(model, init_key)\n",
    "\n",
    "    (state, params), adaptation_info = warmup.run(\n",
    "                    warmup_key, initial_position, num_tuning_steps\n",
    "                )\n",
    "\n",
    "    return params[\"inverse_mass_matrix\"], adaptation_info.info.num_integration_steps.sum()\n",
    "\n",
    "\n",
    "def get_cov_mat_mclmc(num_tuning_steps, model, key=jax.random.key(0)):\n",
    "\n",
    "    # model = brownian_motion()\n",
    "    logdensity_fn = make_log_density_fn(model)\n",
    "\n",
    "    warmup_key,init_key = jax.random.split(key)\n",
    "    initial_position = initialize_model(model, init_key)\n",
    "\n",
    "    _, params, num_integrator_steps = unadjusted_mclmc_tuning(\n",
    "        initial_position=initial_position,\n",
    "        num_steps=1000,\n",
    "        rng_key=warmup_key,\n",
    "        logdensity_fn=logdensity_fn,\n",
    "        integrator_type=\"mclachlan\",\n",
    "        diagonal_preconditioning=True,\n",
    "        num_tuning_steps=num_tuning_steps,\n",
    "    )\n",
    "\n",
    "    return params.inverse_mass_matrix, num_integrator_steps\n",
    "\n",
    "# def get_cov_mat_adjusted_mclmc(num_tuning_steps, model, key=jax.random.key(0)):\n",
    "\n",
    "#     # model = brownian_motion()\n",
    "#     logdensity_fn = make_log_density_fn(model)\n",
    "\n",
    "#     warmup_key,init_key = jax.random.split(key)\n",
    "#     initial_position = initialize_model(model, init_key)\n",
    "\n",
    "#     _, params, _ = adjusted_mclmc_tuning(\n",
    "#         initial_position=initial_position,\n",
    "#         num_steps=1000,\n",
    "#         rng_key=warmup_key,\n",
    "#         logdensity_fn=logdensity_fn,\n",
    "#         target_acc_rate=0.9,\n",
    "#         integrator=map_integrator_type_to_integrator[\"mclmc\"]['velocity_verlet'],\n",
    "#         diagonal_preconditioning=True,\n",
    "#         num_tuning_steps=num_tuning_steps,\n",
    "#         L_proposal_factor=jnp.inf,\n",
    "#         random_trajectory_length=True,\n",
    "#         tuning_factor=1.0,\n",
    "        \n",
    "\n",
    "#     )\n",
    "\n",
    "#     return params.inverse_mass_matrix"
   ]
  },
  {
   "cell_type": "code",
   "execution_count": 7,
   "metadata": {},
   "outputs": [],
   "source": [
    "nuts_inverse_mass_matrix, _ = get_cov_mat_nuts(num_tuning_steps=1000000, model=Rosenbrock_36D()) "
   ]
  },
  {
   "cell_type": "code",
   "execution_count": 15,
   "metadata": {},
   "outputs": [],
   "source": [
    "# get_cov_mat_mclmc(num_tuning_steps=100)-nuts_inverse_mass_matrix\n",
    "\n",
    "results = []\n",
    "nuts_results = []\n",
    "adjusted_results = []\n",
    "num_steps = []\n",
    "nuts_num_steps = []\n",
    "for i in [100, 1000, 10000, 100000,]:\n",
    "\n",
    "    cov_mat, num_integrator_steps = get_cov_mat_mclmc(num_tuning_steps=i, model=Rosenbrock_36D(), key=jax.random.key(1))\n",
    "    results.append(jnp.linalg.norm(cov_mat-nuts_inverse_mass_matrix).item())\n",
    "    num_steps.append(num_integrator_steps)\n",
    "\n",
    "\n",
    "    cov_mat, num_integrator_steps = get_cov_mat_nuts(num_tuning_steps=i, model=Rosenbrock_36D(), key=jax.random.key(1))\n",
    "    nuts_results.append(jnp.linalg.norm(cov_mat-nuts_inverse_mass_matrix).item()) \n",
    "    nuts_num_steps.append(num_integrator_steps)\n",
    "    # adjusted_results.append(jnp.linalg.norm(get_cov_mat_adjusted_mclmc(num_tuning_steps=i)-nuts_inverse_mass_matrix).item())"
   ]
  },
  {
   "cell_type": "code",
   "execution_count": 27,
   "metadata": {},
   "outputs": [
    {
     "data": {
      "text/plain": [
       "[Array(18434, dtype=int32),\n",
       " Array(141323, dtype=int32),\n",
       " Array(973746, dtype=int32),\n",
       " Array(9204909, dtype=int32)]"
      ]
     },
     "execution_count": 27,
     "metadata": {},
     "output_type": "execute_result"
    },
    {
     "data": {
      "image/png": "[encoded data removed]",
      "text/plain": [
       "<Figure size 640x480 with 1 Axes>"
      ]
     },
     "metadata": {},
     "output_type": "display_data"
    }
   ],
   "source": [
    "# plot results\n",
    "import matplotlib.pyplot as plt\n",
    "plt.plot([i*4 for i in num_steps[:4]], results[:4])\n",
    "# plt.plot([100, 1000, 10000, 100000,], adjusted_results[:5])\n",
    "plt.plot([i.item()*2 for i in nuts_num_steps[:3]], nuts_results[:3])\n",
    "# plt.legend([\"MCLMC\", \"Adjusted MCLMC\", \"NUTS\"])\n",
    "plt.legend([\"MCLMC\", \"NUTS\"])\n",
    "# plt.yscale('log')\n",
    "# plt.xscale('log')\n",
    "\n",
    "# results, adjusted_results\n",
    "\n",
    "nuts_num_steps"
   ]
  },
  {
   "cell_type": "code",
   "execution_count": 28,
   "metadata": {},
   "outputs": [
    {
     "data": {
      "text/plain": [
       "250000.0"
      ]
     },
     "execution_count": 28,
     "metadata": {},
     "output_type": "execute_result"
    }
   ],
   "source": [
    "# import sys\n",
    "0.25*1e6\n",
    "# import pickle\n",
    "# sys.path.append('..')\n",
    "# from sampler_evaluation.models.rosenbrock import Rosenbrock_36D\n",
    "# import jax.numpy as jnp\n",
    "# dirr = \"/global/homes/r/reubenh/blackjax-benchmarks\"\n",
    "\n",
    "# with open(\n",
    "#     f\"{dirr}/sampler-evaluation/sampler_evaluation/models/data/rosenbrock_36D_expectations.pkl\",\n",
    "#     \"rb\",\n",
    "# ) as f:\n",
    "#     stats = pickle.load(f)\n",
    "\n",
    "# print(f\"New: {stats['e_x']}\")\n",
    "\n",
    "# e_x_old = jnp.array(\n",
    "#             [\n",
    "#                 1.0,\n",
    "#             ]\n",
    "#             *18\n",
    "#             + [\n",
    "#                 2.0,\n",
    "#             ]\n",
    "#             *18\n",
    "#         )\n",
    "\n",
    "\n",
    "\n",
    "# print(f\"Old: {e_x_old}\")"
   ]
  },
  {
   "cell_type": "code",
   "execution_count": null,
   "metadata": {},
   "outputs": [
    {
     "name": "stdout",
     "output_type": "stream",
     "text": [
      "new x2: [ 1.9999614  2.0001338  1.9998589  1.9994991  2.0003493  2.0000134\n",
      "  1.9993464  2.0006187  1.9998217  2.0003607  1.999792   1.9994425\n",
      "  2.0002427  1.999335   1.9994446  2.0001912  2.0013323  2.0007448\n",
      " 11.357674  11.37145   11.363832  11.361152  11.368686  11.367291\n",
      " 11.36001   11.371172  11.361932  11.372989  11.35868   11.358608\n",
      " 11.364562  11.353124  11.358071  11.366144  11.378603  11.374646 ]\n",
      "old x2: [ 2.        2.        2.        2.        2.        2.        2.\n",
      "  2.        2.        2.        2.        2.        2.        2.\n",
      "  2.        2.        2.        2.       10.100174 10.100174 10.100174\n",
      " 10.100174 10.100174 10.100174 10.100174 10.100174 10.100174 10.100174\n",
      " 10.100174 10.100174 10.100174 10.100174 10.100174 10.100174 10.100174\n",
      " 10.100174]\n"
     ]
    }
   ],
   "source": [
    "\n",
    "# print(f\"new x2: {stats['e_x2']}\")\n",
    "\n",
    "# e_x2_old = jnp.array(\n",
    "#             [\n",
    "#                 2.0,\n",
    "#             ]\n",
    "#             * 18\n",
    "#             + [\n",
    "#                 10.10017429,\n",
    "#             ]\n",
    "#             * 18\n",
    "#         )\n",
    "\n",
    "# print(f\"old x2: {e_x2_old}\")    "
   ]
  },
  {
   "cell_type": "code",
   "execution_count": null,
   "metadata": {},
   "outputs": [],
   "source": []
  }
 ],
 "metadata": {
  "kernelspec": {
   "display_name": "mclmc",
   "language": "python",
   "name": "python3"
  },
  "language_info": {
   "codemirror_mode": {
    "name": "ipython",
    "version": 3
   },
   "file_extension": ".py",
   "mimetype": "text/x-python",
   "name": "python",
   "nbconvert_exporter": "python",
   "pygments_lexer": "ipython3",
   "version": "3.11.9"
  }
 },
 "nbformat": 4,
 "nbformat_minor": 2
}
