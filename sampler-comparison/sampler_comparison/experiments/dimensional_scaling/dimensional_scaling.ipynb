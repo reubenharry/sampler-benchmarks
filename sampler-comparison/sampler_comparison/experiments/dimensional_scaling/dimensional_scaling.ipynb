{
 "cells": [
  {
   "cell_type": "code",
   "execution_count": 4,
   "metadata": {},
   "outputs": [
    {
     "ename": "NameError",
     "evalue": "name 'integrator_type' is not defined",
     "output_type": "error",
     "traceback": [
      "\u001b[0;31m---------------------------------------------------------------------------\u001b[0m",
      "\u001b[0;31mNameError\u001b[0m                                 Traceback (most recent call last)",
      "\u001b[1;32m/global/homes/r/reubenh/blackjax-benchmarks/sampler-comparison/sampler_comparison/experiments/dimensional_scaling/dimensional_scaling.ipynb Cell 1\u001b[0m line \u001b[0;36m1\n\u001b[1;32m      <a href='vscode-notebook-cell://ssh-remote%2Bpm/global/homes/r/reubenh/blackjax-benchmarks/sampler-comparison/sampler_comparison/experiments/dimensional_scaling/dimensional_scaling.ipynb#W0sdnNjb2RlLXJlbW90ZQ%3D%3D?line=5'>6</a>\u001b[0m dims \u001b[39m=\u001b[39m np\u001b[39m.\u001b[39mconcatenate([np\u001b[39m.\u001b[39marange(\u001b[39m2\u001b[39m,\u001b[39m10\u001b[39m), np\u001b[39m.\u001b[39mceil(np\u001b[39m.\u001b[39mlogspace(\u001b[39m2\u001b[39m,\u001b[39m5\u001b[39m, \u001b[39m5\u001b[39m))\u001b[39m.\u001b[39mastype(\u001b[39mint\u001b[39m)])\n\u001b[1;32m      <a href='vscode-notebook-cell://ssh-remote%2Bpm/global/homes/r/reubenh/blackjax-benchmarks/sampler-comparison/sampler_comparison/experiments/dimensional_scaling/dimensional_scaling.ipynb#W0sdnNjb2RlLXJlbW90ZQ%3D%3D?line=7'>8</a>\u001b[0m integrator_types \u001b[39m=\u001b[39m [\u001b[39m'\u001b[39m\u001b[39mvelocity_verlet\u001b[39m\u001b[39m'\u001b[39m, \u001b[39m'\u001b[39m\u001b[39mmclachlan\u001b[39m\u001b[39m'\u001b[39m, \u001b[39m'\u001b[39m\u001b[39momelyan\u001b[39m\u001b[39m'\u001b[39m]\n\u001b[0;32m---> <a href='vscode-notebook-cell://ssh-remote%2Bpm/global/homes/r/reubenh/blackjax-benchmarks/sampler-comparison/sampler_comparison/experiments/dimensional_scaling/dimensional_scaling.ipynb#W0sdnNjb2RlLXJlbW90ZQ%3D%3D?line=9'>10</a>\u001b[0m samplers \u001b[39m=\u001b[39m [x \u001b[39mfor\u001b[39;00m x \u001b[39min\u001b[39;00m [\u001b[39mf\u001b[39m\u001b[39m\"\u001b[39m\u001b[39madjusted_microcanonical_\u001b[39m\u001b[39m{\u001b[39;00mintegrator_type\u001b[39m}\u001b[39;00m\u001b[39m\"\u001b[39m,\n\u001b[1;32m     <a href='vscode-notebook-cell://ssh-remote%2Bpm/global/homes/r/reubenh/blackjax-benchmarks/sampler-comparison/sampler_comparison/experiments/dimensional_scaling/dimensional_scaling.ipynb#W0sdnNjb2RlLXJlbW90ZQ%3D%3D?line=10'>11</a>\u001b[0m             \n\u001b[1;32m     <a href='vscode-notebook-cell://ssh-remote%2Bpm/global/homes/r/reubenh/blackjax-benchmarks/sampler-comparison/sampler_comparison/experiments/dimensional_scaling/dimensional_scaling.ipynb#W0sdnNjb2RlLXJlbW90ZQ%3D%3D?line=11'>12</a>\u001b[0m                 \u001b[39mf\u001b[39m\u001b[39m\"\u001b[39m\u001b[39munadjusted_microcanonical__\u001b[39m\u001b[39m{\u001b[39;00mintegrator_type\u001b[39m}\u001b[39;00m\u001b[39m\"\u001b[39m] \u001b[39mfor\u001b[39;00m integrator_type \u001b[39min\u001b[39;00m integrator_types]\n\u001b[1;32m     <a href='vscode-notebook-cell://ssh-remote%2Bpm/global/homes/r/reubenh/blackjax-benchmarks/sampler-comparison/sampler_comparison/experiments/dimensional_scaling/dimensional_scaling.ipynb#W0sdnNjb2RlLXJlbW90ZQ%3D%3D?line=13'>14</a>\u001b[0m models \u001b[39m=\u001b[39m [\u001b[39mf\u001b[39m\u001b[39m\"\u001b[39m\u001b[39mGaussian_\u001b[39m\u001b[39m{\u001b[39;00mdim\u001b[39m}\u001b[39;00m\u001b[39m\"\u001b[39m \u001b[39mfor\u001b[39;00m dim \u001b[39min\u001b[39;00m dims]\n\u001b[1;32m     <a href='vscode-notebook-cell://ssh-remote%2Bpm/global/homes/r/reubenh/blackjax-benchmarks/sampler-comparison/sampler_comparison/experiments/dimensional_scaling/dimensional_scaling.ipynb#W0sdnNjb2RlLXJlbW90ZQ%3D%3D?line=15'>16</a>\u001b[0m df \u001b[39m=\u001b[39m pd\u001b[39m.\u001b[39mconcat([pd\u001b[39m.\u001b[39mread_csv(os\u001b[39m.\u001b[39mpath\u001b[39m.\u001b[39mjoin(\u001b[39m'\u001b[39m\u001b[39m../..\u001b[39m\u001b[39m'\u001b[39m,\u001b[39mf\u001b[39m\u001b[39m'\u001b[39m\u001b[39mresults/\u001b[39m\u001b[39m{\u001b[39;00mmodel\u001b[39m}\u001b[39;00m\u001b[39m'\u001b[39m, \u001b[39mf\u001b[39m\u001b[39m'\u001b[39m\u001b[39m{\u001b[39;00msampler\u001b[39m}\u001b[39;00m\u001b[39m_\u001b[39m\u001b[39m{\u001b[39;00mmodel\u001b[39m}\u001b[39;00m\u001b[39m.csv\u001b[39m\u001b[39m'\u001b[39m)) \u001b[39mfor\u001b[39;00m sampler, model \u001b[39min\u001b[39;00m itertools\u001b[39m.\u001b[39mproduct(samplers, models)], ignore_index\u001b[39m=\u001b[39m\u001b[39mTrue\u001b[39;00m)\n",
      "\u001b[0;31mNameError\u001b[0m: name 'integrator_type' is not defined"
     ]
    }
   ],
   "source": [
    "import numpy as np\n",
    "import itertools\n",
    "import pandas as pd\n",
    "import os \n",
    "\n",
    "dims = np.concatenate([np.arange(2,10), np.ceil(np.logspace(2,5, 5)).astype(int)])\n",
    "\n",
    "integrator_types = ['velocity_verlet', 'mclachlan', 'omelyan']\n",
    "\n",
    "samplers = [[f\"adjusted_microcanonical_{integrator_type}\",\n",
    "            \n",
    "                f\"unadjusted_microcanonical__{integrator_type}\"] for integrator_type in integrator_types]\n",
    "\n",
    "models = [f\"Gaussian_{dim}\" for dim in dims]\n",
    "\n",
    "df = pd.concat([pd.read_csv(os.path.join('../..',f'results/{model}', f'{sampler}_{model}.csv')) for sampler, model in itertools.product(samplers, models)], ignore_index=True)"
   ]
  },
  {
   "cell_type": "code",
   "execution_count": null,
   "metadata": {},
   "outputs": [],
   "source": []
  }
 ],
 "metadata": {
  "kernelspec": {
   "display_name": "Python 3",
   "language": "python",
   "name": "python3"
  },
  "language_info": {
   "codemirror_mode": {
    "name": "ipython",
    "version": 3
   },
   "file_extension": ".py",
   "mimetype": "text/x-python",
   "name": "python",
   "nbconvert_exporter": "python",
   "pygments_lexer": "ipython3",
   "version": "3.11.9"
  }
 },
 "nbformat": 4,
 "nbformat_minor": 2
}
