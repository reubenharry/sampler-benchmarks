{
 "cells": [
  {
   "cell_type": "code",
   "execution_count": null,
   "metadata": {
    "vscode": {
     "languageId": "plaintext"
    }
   },
   "outputs": [],
   "source": [
    "import blackjax\n",
    "import jax\n",
    "import jax.numpy as jnp\n",
    "from blackjax.util import run_inference_algorithm\n",
    "\n",
    "logdensity_fn = lambda x: -jnp.sum(x**2)\n",
    "integrator = blackjax.mcmc.integrators.velocity_verlet\n",
    "target_acc_rate = 0.8\n",
    "rng_key = jax.random.PRNGKey(0)\n",
    "initial_position = jnp.ones(1)\n",
    "state = blackjax.nuts.init(initial_position, logdensity_fn)\n",
    "num_steps = 10000\n",
    "num_tuning_steps = 10000\n",
    "return_only_final = True\n",
    "\n",
    "\n",
    "warmup_key = jax.random.PRNGKey(1)\n",
    "\n",
    "\n",
    "warmup = blackjax.window_adaptation(\n",
    "                blackjax.nuts, logdensity_fn, integrator=integrator, target_acceptance_rate=target_acc_rate,\n",
    "                #  cos_angle_termination=cos_angle_termination\n",
    "            )\n",
    "\n",
    "(state, params), adaptation_info = warmup.run(\n",
    "                warmup_key, initial_position, num_tuning_steps\n",
    "            )\n",
    "\n",
    "print(\"Reported acceptance rate: \", adaptation_info.info.acceptance_rate.mean())\n",
    "\n",
    "alg = blackjax.nuts(\n",
    "            logdensity_fn=logdensity_fn,\n",
    "            step_size=params[\"step_size\"],\n",
    "            inverse_mass_matrix=params[\"inverse_mass_matrix\"],\n",
    "            integrator=integrator,\n",
    "            # cos_angle_termination=cos_angle_termination,\n",
    "        )\n",
    "\n",
    "final_output, (_, info) = run_inference_algorithm(\n",
    "            rng_key=rng_key,\n",
    "            initial_state=state,\n",
    "            inference_algorithm=alg,\n",
    "            num_steps=num_steps,\n",
    "            transform=lambda x, i:(x,i),\n",
    "        )\n",
    "\n",
    "print(\"Observed acceptance rate: \", info.acceptance_rate.mean())"
   ]
  }
 ],
 "metadata": {
  "language_info": {
   "name": "python"
  }
 },
 "nbformat": 4,
 "nbformat_minor": 2
}
