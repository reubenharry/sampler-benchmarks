{
 "cells": [
  {
   "cell_type": "code",
   "execution_count": 16,
   "metadata": {},
   "outputs": [
    {
     "data": {
      "text/plain": [
       "(Array(1.7429692, dtype=float32), Array(1.7548698, dtype=float32))"
      ]
     },
     "execution_count": 16,
     "metadata": {},
     "output_type": "execute_result"
    }
   ],
   "source": [
    "# load of banana_expectations.pkl\n",
    "import pickle\n",
    "import numpy as np\n",
    "import matplotlib.pyplot as plt\n",
    "import matplotlib.patches as mpatches\n",
    "import matplotlib.lines as mlines\n",
    "import matplotlib.colors as mcolors\n",
    "import matplotlib.cm as cm\n",
    "\n",
    "model = 'Brownian_Motion'\n",
    "\n",
    "from sampler_evaluation.models import models\n",
    "\n",
    "name = models[model].name\n",
    "\n",
    "import os\n",
    "\n",
    "os.listdir()\n",
    "\n",
    "\n",
    "# # Load the data\n",
    "with open(f'{name}_expectations.pkl', 'rb') as f:\n",
    "    data = pickle.load(f)\n",
    "\n",
    "data['relative_fluctuations']"
   ]
  },
  {
   "cell_type": "code",
   "execution_count": 17,
   "metadata": {},
   "outputs": [
    {
     "data": {
      "text/plain": [
       "{'e_x': array([-0.57177997,  0.413464  , -0.18732974, -0.01538069,  0.40252292,\n",
       "        -0.74789107, -0.6523173 ,  0.32731485, -0.4404647 , -0.50126684,\n",
       "        -0.3487442 ,  0.8690944 , -0.38969493,  0.05687013, -0.1333742 ,\n",
       "        -0.21643199, -0.29964262, -0.38685113, -0.2003384 , -0.71449775,\n",
       "        -0.09451635, -1.0031182 , -0.8336376 , -0.40449196, -0.45827654,\n",
       "         0.0720889 ,  0.19774227, -1.117811  , -0.39973557, -0.3024767 ,\n",
       "         0.03805226, -0.8175033 ], dtype=float32),\n",
       " 'e_x2': array([0.78480333, 0.7847097 , 0.76191556, 0.25128135, 0.34727624,\n",
       "        1.0832446 , 1.2714344 , 0.43060517, 0.25703934, 0.63557124,\n",
       "        0.12542194, 2.1119654 , 0.4474477 , 0.31316465, 0.22522317,\n",
       "        0.4025606 , 0.19104147, 0.39446464, 0.35293657, 0.5318096 ,\n",
       "        0.41510376, 1.1372975 , 0.70141286, 0.54110855, 0.35801142,\n",
       "        0.87134486, 1.1773586 , 1.5095108 , 0.97311354, 0.23136127,\n",
       "        0.5092677 , 0.7004837 ], dtype=float32),\n",
       " 'e_x4': array([1.23319   , 2.2532763 , 1.710217  , 0.12821825, 0.24850436,\n",
       "        2.3361213 , 6.183026  , 0.50750947, 0.14675239, 1.4049346 ,\n",
       "        0.0173333 , 9.811144  , 0.6092483 , 0.23868346, 0.07134288,\n",
       "        0.20658773, 0.07256339, 0.22751662, 0.18107726, 0.3284987 ,\n",
       "        0.24184635, 2.0227041 , 0.5084588 , 0.31776804, 0.20486732,\n",
       "        1.0386358 , 2.8722415 , 4.250999  , 1.0867449 , 0.09424216,\n",
       "        0.3000236 , 0.61143166], dtype=float32),\n",
       " 'potential_scale_reduction': (Array(1.0240946, dtype=float32),\n",
       "  Array(1.0910034, dtype=float32),\n",
       "  Array(1.0415434, dtype=float32)),\n",
       " 'relative_fluctuations': (Array(1.7429692, dtype=float32),\n",
       "  Array(1.7548698, dtype=float32))}"
      ]
     },
     "execution_count": 17,
     "metadata": {},
     "output_type": "execute_result"
    }
   ],
   "source": [
    "data"
   ]
  },
  {
   "cell_type": "code",
   "execution_count": 12,
   "metadata": {},
   "outputs": [
    {
     "ename": "ModuleNotFoundError",
     "evalue": "No module named 'models'",
     "output_type": "error",
     "traceback": [
      "\u001b[0;31m---------------------------------------------------------------------------\u001b[0m",
      "\u001b[0;31mModuleNotFoundError\u001b[0m                       Traceback (most recent call last)",
      "\u001b[1;32m/global/homes/r/reubenh/sampler-benchmarks/src/models/data/inspect_expectations.ipynb Cell 3\u001b[0m line \u001b[0;36m1\n\u001b[0;32m----> <a href='vscode-notebook-cell://ssh-remote%2Bpm/global/homes/r/reubenh/sampler-benchmarks/src/models/data/inspect_expectations.ipynb#W2sdnNjb2RlLXJlbW90ZQ%3D%3D?line=0'>1</a>\u001b[0m \u001b[39mfrom\u001b[39;00m \u001b[39mmodels\u001b[39;00m \u001b[39mimport\u001b[39;00m banana\n\u001b[1;32m      <a href='vscode-notebook-cell://ssh-remote%2Bpm/global/homes/r/reubenh/sampler-benchmarks/src/models/data/inspect_expectations.ipynb#W2sdnNjb2RlLXJlbW90ZQ%3D%3D?line=3'>4</a>\u001b[0m banana()\n",
      "\u001b[0;31mModuleNotFoundError\u001b[0m: No module named 'models'"
     ]
    }
   ],
   "source": []
  },
  {
   "cell_type": "code",
   "execution_count": null,
   "metadata": {},
   "outputs": [],
   "source": []
  }
 ],
 "metadata": {
  "kernelspec": {
   "display_name": "Python 3",
   "language": "python",
   "name": "python3"
  },
  "language_info": {
   "codemirror_mode": {
    "name": "ipython",
    "version": 3
   },
   "file_extension": ".py",
   "mimetype": "text/x-python",
   "name": "python",
   "nbconvert_exporter": "python",
   "pygments_lexer": "ipython3",
   "version": "3.11.9"
  }
 },
 "nbformat": 4,
 "nbformat_minor": 2
}
